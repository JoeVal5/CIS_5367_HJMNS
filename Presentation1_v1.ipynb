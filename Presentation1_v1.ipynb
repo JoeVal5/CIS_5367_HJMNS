{
  "nbformat": 4,
  "nbformat_minor": 0,
  "metadata": {
    "colab": {
      "name": "Presentation1_v1.ipynb",
      "provenance": [],
      "collapsed_sections": []
    },
    "kernelspec": {
      "name": "python3",
      "display_name": "Python 3"
    },
    "language_info": {
      "name": "python"
    }
  },
  "cells": [
    {
      "cell_type": "code",
      "execution_count": 1,
      "metadata": {
        "id": "ZE6ubVcr4hSY"
      },
      "outputs": [],
      "source": [
        "# Spark init#save the files in the g drive folder - first two commands\n",
        "!wget -q https://dlcdn.apache.org/spark/spark-3.1.2/spark-3.1.2-bin-hadoop2.7.tgz \n",
        "!tar xf spark-3.1.2-bin-hadoop2.7.tgz\n",
        "import os\n",
        "os.environ[\"JAVA_HOME\"] = \"/usr/lib/jvm/default-java\"\n",
        "os.environ[\"SPARK_HOME\"] = \"/content/spark-3.1.2-bin-hadoop2.7\"\n",
        "!pip install -q findspark\n",
        "import findspark\n",
        "findspark.init()"
      ]
    },
    {
      "cell_type": "code",
      "source": [
        "from pyspark.sql import SparkSession\n",
        "spark = SparkSession.builder\\\n",
        "        .master(\"local\")\\\n",
        "        .appName(\"Colab\")\\\n",
        "        .config('spark.ui.port', '4050')\\\n",
        "        .getOrCreate()"
      ],
      "metadata": {
        "id": "Km--g4b74inS"
      },
      "execution_count": 2,
      "outputs": []
    },
    {
      "cell_type": "code",
      "source": [
        "from google.colab import drive\n",
        "drive.mount('/content/drive')"
      ],
      "metadata": {
        "colab": {
          "base_uri": "https://localhost:8080/"
        },
        "id": "9r-9o5OB4nBA",
        "outputId": "a0e66fad-49da-46eb-e9a0-ec93e75013f7"
      },
      "execution_count": 3,
      "outputs": [
        {
          "output_type": "stream",
          "name": "stdout",
          "text": [
            "Mounted at /content/drive\n"
          ]
        }
      ]
    },
    {
      "cell_type": "code",
      "source": [
        "!head -5 /content/drive/MyDrive/data/zip_code_market_tracker.tsv000"
      ],
      "metadata": {
        "colab": {
          "base_uri": "https://localhost:8080/"
        },
        "id": "A-k9oO-p4pqg",
        "outputId": "801caa2b-663a-4808-ce56-e644f86e50db"
      },
      "execution_count": 4,
      "outputs": [
        {
          "output_type": "stream",
          "name": "stdout",
          "text": [
            "period_begin\tperiod_end\tperiod_duration\tregion_type\tregion_type_id\ttable_id\tis_seasonally_adjusted\tregion\tcity\tstate\tstate_code\tproperty_type\tproperty_type_id\tmedian_sale_price\tmedian_sale_price_mom\tmedian_sale_price_yoy\tmedian_list_price\tmedian_list_price_mom\tmedian_list_price_yoy\tmedian_ppsf\tmedian_ppsf_mom\tmedian_ppsf_yoy\tmedian_list_ppsf\tmedian_list_ppsf_mom\tmedian_list_ppsf_yoy\thomes_sold\thomes_sold_mom\thomes_sold_yoy\tpending_sales\tpending_sales_mom\tpending_sales_yoy\tnew_listings\tnew_listings_mom\tnew_listings_yoy\tinventory\tinventory_mom\tinventory_yoy\tmonths_of_supply\tmonths_of_supply_mom\tmonths_of_supply_yoy\tmedian_dom\tmedian_dom_mom\tmedian_dom_yoy\tavg_sale_to_list\tavg_sale_to_list_mom\tavg_sale_to_list_yoy\tsold_above_list\tsold_above_list_mom\tsold_above_list_yoy\tprice_drops\tprice_drops_mom\tprice_drops_yoy\toff_market_in_two_weeks\toff_market_in_two_weeks_mom\toff_market_in_two_weeks_yoy\tparent_metro_region\tparent_metro_region_metro_code\tlast_updated\n",
            "2017-07-01\t2017-09-30\t90\tzip code\t2\t25920\tf\tZip Code: 60201\t\tIllinois\tIL\tTownhouse\t13\t434000\t0.12581063553826199\t0.16666666666666674\t339000\t-0.23389830508474574\t-0.081300813008130079\t251.0239445494644\t0.018609646213858078\t0.20095205914733882\t255.19848771266541\t0.0078385863940841904\t0.057817565648353941\t12\t-0.19999999999999996\t-0.40000000000000002\t2\t-0.5\t1\t9\t-0.25\t0\t7\t0\t0\t\t\t\t11\t3.5\t-20\t0.97986271677433778\t-0.016152319295977824\t0.012620150249700757\t0.16666666666666666\t-0.10000000000000001\t0.066666666666666652\t\t\t\t0\t-0.25\t-1\tChicago, IL\t16984\t2022-01-09 14:29:56\n",
            "2019-06-01\t2019-08-31\t90\tzip code\t2\t8841\tf\tZip Code: 22310\t\tVirginia\tVA\tAll Residential\t-1\t489950\t0.010206185567010362\t0.062567772717414982\t489000\t-0.001837109614207022\t0.075908774377089427\t286.03777589872607\t0.0026376776239556143\t0.044037882030350195\t284.87878787878788\t-0.0027303288770796907\t0.044270114033540642\t140\t-0.10828025477707004\t-0.072847682119205337\t49\t0.13953488372093026\t0.088888888888888795\t150\t-0.15730337078651691\t-0.08536585365853655\t63\t-0.13698630136986301\t-0.25882352941176467\t\t\t\t18.5\t4.5\t8.5\t1.001960632514789\t-0.00094230208078416311\t0.00590154935726106\t0.48571428571428571\t-0.030209281164695179\t0.16121097445600757\t\t\t\t0.40816326530612246\t0.03607024205030851\t-0.080725623582766415\tWashington, DC\t47894\t2022-01-09 14:29:56\n",
            "2016-05-01\t2016-07-31\t90\tzip code\t2\t20543\tf\tZip Code: 48208\t\tMichigan\tMI\tMulti-Family (2-4 Unit)\t4\t279000\t0\t\t373500\t\t\t111.59999999999999\t0\t\t103.29092920353982\t\t\t1\t0\t\t1\t\t\t1\t\t\t2\t0\t\t\t\t\t16\t0\t\t1.0337161911819193\t0\t\t1\t0\t\t\t\t\t1\t\t\tDetroit, MI\t19804\t2022-01-09 14:29:56\n",
            "2013-03-01\t2013-05-31\t90\tzip code\t2\t7850\tf\tZip Code: 20132\t\tVirginia\tVA\tAll Residential\t-1\t450000\t-0.01098901098901095\t0.046755059316120118\t475000\t-0.03933663666700371\t0.010853373058097526\t143.36587716254769\t0.00035145632076183375\t0.028346427376104932\t157.44084896916257\t-0.011384445273755373\t-0.028567580901117107\t62\t0.51219512195121952\t-0.015873015873015928\t30\t0.034482758620689724\t0.034482758620689724\t114\t0.096153846153846256\t-0.06557377049180324\t90\t-0.021739130434782594\t-0.24369747899159666\t\t\t\t28\t-23\t-52\t0.97831632606393082\t0.010556293956753615\t-0.0042845754055692575\t0.30645161290322581\t0.038158929976396527\t0.14772145417306709\t\t\t\t0.5\t-0.12068965517241381\t0.12068965517241381\tWashington, DC\t47894\t2022-01-09 14:29:56\n"
          ]
        }
      ]
    },
    {
      "cell_type": "code",
      "source": [
        "df = spark.read.csv('/content/drive/MyDrive/data/zip_code_market_tracker.tsv000', sep='\\t',header=True)"
      ],
      "metadata": {
        "id": "crDTixYp4sQX"
      },
      "execution_count": 5,
      "outputs": []
    },
    {
      "cell_type": "code",
      "source": [
        "df.show(5)"
      ],
      "metadata": {
        "colab": {
          "base_uri": "https://localhost:8080/"
        },
        "id": "yCzesZ-s4vAq",
        "outputId": "8ebe8af4-cd1c-468a-b4ba-48dfd54b496a"
      },
      "execution_count": null,
      "outputs": [
        {
          "output_type": "stream",
          "name": "stdout",
          "text": [
            "+------------+----------+---------------+-----------+--------------+--------+----------------------+---------------+----+--------+----------+--------------------+----------------+-----------------+---------------------+---------------------+-----------------+---------------------+---------------------+------------------+--------------------+--------------------+------------------+--------------------+--------------------+----------+--------------------+--------------------+-------------+--------------------+--------------------+------------+--------------------+--------------------+---------+--------------------+--------------------+----------------+--------------------+--------------------+----------+--------------+--------------+-------------------+--------------------+--------------------+-------------------+--------------------+--------------------+-----------+---------------+---------------+-----------------------+---------------------------+---------------------------+-------------------+------------------------------+-------------------+\n",
            "|period_begin|period_end|period_duration|region_type|region_type_id|table_id|is_seasonally_adjusted|         region|city|   state|state_code|       property_type|property_type_id|median_sale_price|median_sale_price_mom|median_sale_price_yoy|median_list_price|median_list_price_mom|median_list_price_yoy|       median_ppsf|     median_ppsf_mom|     median_ppsf_yoy|  median_list_ppsf|median_list_ppsf_mom|median_list_ppsf_yoy|homes_sold|      homes_sold_mom|      homes_sold_yoy|pending_sales|   pending_sales_mom|   pending_sales_yoy|new_listings|    new_listings_mom|    new_listings_yoy|inventory|       inventory_mom|       inventory_yoy|months_of_supply|months_of_supply_mom|months_of_supply_yoy|median_dom|median_dom_mom|median_dom_yoy|   avg_sale_to_list|avg_sale_to_list_mom|avg_sale_to_list_yoy|    sold_above_list| sold_above_list_mom| sold_above_list_yoy|price_drops|price_drops_mom|price_drops_yoy|off_market_in_two_weeks|off_market_in_two_weeks_mom|off_market_in_two_weeks_yoy|parent_metro_region|parent_metro_region_metro_code|       last_updated|\n",
            "+------------+----------+---------------+-----------+--------------+--------+----------------------+---------------+----+--------+----------+--------------------+----------------+-----------------+---------------------+---------------------+-----------------+---------------------+---------------------+------------------+--------------------+--------------------+------------------+--------------------+--------------------+----------+--------------------+--------------------+-------------+--------------------+--------------------+------------+--------------------+--------------------+---------+--------------------+--------------------+----------------+--------------------+--------------------+----------+--------------+--------------+-------------------+--------------------+--------------------+-------------------+--------------------+--------------------+-----------+---------------+---------------+-----------------------+---------------------------+---------------------------+-------------------+------------------------------+-------------------+\n",
            "|  2017-07-01|2017-09-30|             90|   zip code|             2|   25920|                     f|Zip Code: 60201|null|Illinois|        IL|           Townhouse|              13|           434000|  0.12581063553826199|  0.16666666666666674|           339000| -0.23389830508474574| -0.08130081300813...| 251.0239445494644|0.018609646213858078| 0.20095205914733882|255.19848771266541|0.007838586394084...|0.057817565648353941|        12|-0.19999999999999996|-0.40000000000000002|            2|                -0.5|                   1|           9|               -0.25|                   0|        7|                   0|                   0|            null|                null|                null|        11|           3.5|           -20|0.97986271677433778|-0.01615231929597...|0.012620150249700757|0.16666666666666666|-0.10000000000000001|0.066666666666666652|       null|           null|           null|                      0|                      -0.25|                         -1|        Chicago, IL|                         16984|2022-01-09 14:29:56|\n",
            "|  2019-06-01|2019-08-31|             90|   zip code|             2|    8841|                     f|Zip Code: 22310|null|Virginia|        VA|     All Residential|              -1|           489950| 0.010206185567010362| 0.062567772717414982|           489000| -0.00183710961420...| 0.075908774377089427|286.03777589872607|0.002637677623955...|0.044037882030350195|284.87878787878788|-0.00273032887707...|0.044270114033540642|       140|-0.10828025477707004|-0.07284768211920...|           49| 0.13953488372093026|0.088888888888888795|         150|-0.15730337078651691|-0.08536585365853655|       63|-0.13698630136986301|-0.25882352941176467|            null|                null|                null|      18.5|           4.5|           8.5|  1.001960632514789|-0.00094230208078...| 0.00590154935726106|0.48571428571428571|-0.03020928116469...| 0.16121097445600757|       null|           null|           null|    0.40816326530612246|        0.03607024205030851|       -0.08072562358276...|     Washington, DC|                         47894|2022-01-09 14:29:56|\n",
            "|  2016-05-01|2016-07-31|             90|   zip code|             2|   20543|                     f|Zip Code: 48208|null|Michigan|        MI|Multi-Family (2-4...|               4|           279000|                    0|                 null|           373500|                 null|                 null|111.59999999999999|                   0|                null|103.29092920353982|                null|                null|         1|                   0|                null|            1|                null|                null|           1|                null|                null|        2|                   0|                null|            null|                null|                null|        16|             0|          null| 1.0337161911819193|                   0|                null|                  1|                   0|                null|       null|           null|           null|                      1|                       null|                       null|        Detroit, MI|                         19804|2022-01-09 14:29:56|\n",
            "|  2013-03-01|2013-05-31|             90|   zip code|             2|    7850|                     f|Zip Code: 20132|null|Virginia|        VA|     All Residential|              -1|           450000| -0.01098901098901095| 0.046755059316120118|           475000| -0.03933663666700371| 0.010853373058097526|143.36587716254769|0.000351456320761...|0.028346427376104932|157.44084896916257|-0.01138444527375...|-0.02856758090111...|        62| 0.51219512195121952|-0.01587301587301...|           30|0.034482758620689724|0.034482758620689724|         114|0.096153846153846256|-0.06557377049180324|       90|-0.02173913043478...|-0.24369747899159666|            null|                null|                null|        28|           -23|           -52|0.97831632606393082|0.010556293956753615|-0.00428457540556...|0.30645161290322581|0.038158929976396527| 0.14772145417306709|       null|           null|           null|                    0.5|       -0.12068965517241381|        0.12068965517241381|     Washington, DC|                         47894|2022-01-09 14:29:56|\n",
            "|  2014-10-01|2014-12-31|             90|   zip code|             2|   15119|                     f|Zip Code: 35758|null| Alabama|        AL|           Townhouse|              13|           125000|                    0|  0.27260140087962204|           124900| 0.041701417848206912|  0.43233944954128445|83.265306122448976|0.060914848698099933|0.097251700680272002|89.450620788856085|0.030743626324494011| 0.55578404219728261|         7|                   0| 0.39999999999999991|            1|                -0.5|                   0|           6|-0.33333333333333337|                 0.5|        7|              -0.125|-0.46153846153846156|            null|                null|                null|       207|             0|            53| 0.9668249660622974|-0.00188252114857...|-0.00131003758137...|0.14285714285714285|                   0|-0.25714285714285717|       null|           null|           null|                      0|                          0|                          0|     Huntsville, AL|                         26620|2022-01-09 14:29:56|\n",
            "+------------+----------+---------------+-----------+--------------+--------+----------------------+---------------+----+--------+----------+--------------------+----------------+-----------------+---------------------+---------------------+-----------------+---------------------+---------------------+------------------+--------------------+--------------------+------------------+--------------------+--------------------+----------+--------------------+--------------------+-------------+--------------------+--------------------+------------+--------------------+--------------------+---------+--------------------+--------------------+----------------+--------------------+--------------------+----------+--------------+--------------+-------------------+--------------------+--------------------+-------------------+--------------------+--------------------+-----------+---------------+---------------+-----------------------+---------------------------+---------------------------+-------------------+------------------------------+-------------------+\n",
            "only showing top 5 rows\n",
            "\n"
          ]
        }
      ]
    },
    {
      "cell_type": "code",
      "source": [
        "df_2 = df.drop(\"region_type\",\"region_type_id\",\"is_seasonally_adjusted\",\"city\",\"table_id\",\"period_duration\",\"months_of_supply\",\"price_drops\",\"median_sale_price_mom\", \"median_sale_price_yoy\",\"median_list_price_mom\",\"median_list_price_yoy\",\"median_ppsf_mom\",\"median_ppsf_yoy\",\"median_list_ppsf_mom\",\"median_list_ppsf_yoy\",\"homes_sold_mom\",\"homes_sold_yoy\", \"pending_sales_mom\",\"pending_sales_yoy\",\"new_listings_mom\",\"new_listings_yoy\",\"inventory_mom\",\"inventory_yoy\",\"months_of_supply_mom\",\"months_of_supply_yoy\",\"median_dom_mom\",\"median_dom_yoy\",\"avg_sale_to_list_mom\",\"avg_sale_to_list_yoy\",\"sold_above_list_mom\",\"sold_above_list_yoy\",\"price_drops_mom\",\"price_drops_yoy\",\"off_market_in_two_weeks_mom\",\"off_market_in_two_weeks_yoy\")"
      ],
      "metadata": {
        "id": "-LV2cbH94zWQ"
      },
      "execution_count": 6,
      "outputs": []
    },
    {
      "cell_type": "code",
      "source": [
        "df_2.show(5)"
      ],
      "metadata": {
        "colab": {
          "base_uri": "https://localhost:8080/"
        },
        "id": "rLI4N18y40VY",
        "outputId": "721984c6-ab7d-4825-f722-1f48f6ee83b1"
      },
      "execution_count": null,
      "outputs": [
        {
          "output_type": "stream",
          "name": "stdout",
          "text": [
            "+------------+----------+---------------+--------+----------+--------------------+----------------+-----------------+-----------------+------------------+------------------+----------+-------------+------------+---------+----------+-------------------+-------------------+-----------------------+-------------------+------------------------------+-------------------+\n",
            "|period_begin|period_end|         region|   state|state_code|       property_type|property_type_id|median_sale_price|median_list_price|       median_ppsf|  median_list_ppsf|homes_sold|pending_sales|new_listings|inventory|median_dom|   avg_sale_to_list|    sold_above_list|off_market_in_two_weeks|parent_metro_region|parent_metro_region_metro_code|       last_updated|\n",
            "+------------+----------+---------------+--------+----------+--------------------+----------------+-----------------+-----------------+------------------+------------------+----------+-------------+------------+---------+----------+-------------------+-------------------+-----------------------+-------------------+------------------------------+-------------------+\n",
            "|  2017-07-01|2017-09-30|Zip Code: 60201|Illinois|        IL|           Townhouse|              13|           434000|           339000| 251.0239445494644|255.19848771266541|        12|            2|           9|        7|        11|0.97986271677433778|0.16666666666666666|                      0|        Chicago, IL|                         16984|2022-01-09 14:29:56|\n",
            "|  2019-06-01|2019-08-31|Zip Code: 22310|Virginia|        VA|     All Residential|              -1|           489950|           489000|286.03777589872607|284.87878787878788|       140|           49|         150|       63|      18.5|  1.001960632514789|0.48571428571428571|    0.40816326530612246|     Washington, DC|                         47894|2022-01-09 14:29:56|\n",
            "|  2016-05-01|2016-07-31|Zip Code: 48208|Michigan|        MI|Multi-Family (2-4...|               4|           279000|           373500|111.59999999999999|103.29092920353982|         1|            1|           1|        2|        16| 1.0337161911819193|                  1|                      1|        Detroit, MI|                         19804|2022-01-09 14:29:56|\n",
            "|  2013-03-01|2013-05-31|Zip Code: 20132|Virginia|        VA|     All Residential|              -1|           450000|           475000|143.36587716254769|157.44084896916257|        62|           30|         114|       90|        28|0.97831632606393082|0.30645161290322581|                    0.5|     Washington, DC|                         47894|2022-01-09 14:29:56|\n",
            "|  2014-10-01|2014-12-31|Zip Code: 35758| Alabama|        AL|           Townhouse|              13|           125000|           124900|83.265306122448976|89.450620788856085|         7|            1|           6|        7|       207| 0.9668249660622974|0.14285714285714285|                      0|     Huntsville, AL|                         26620|2022-01-09 14:29:56|\n",
            "+------------+----------+---------------+--------+----------+--------------------+----------------+-----------------+-----------------+------------------+------------------+----------+-------------+------------+---------+----------+-------------------+-------------------+-----------------------+-------------------+------------------------------+-------------------+\n",
            "only showing top 5 rows\n",
            "\n"
          ]
        }
      ]
    },
    {
      "cell_type": "code",
      "source": [
        "import pyspark.sql.functions as func"
      ],
      "metadata": {
        "id": "HoBPeljD440z"
      },
      "execution_count": null,
      "outputs": []
    },
    {
      "cell_type": "code",
      "source": [
        "#Distinct count of states in Redfin Dataset\n",
        "df_states = df_2.select(\"state_code\").distinct().count()\n",
        "df_states"
      ],
      "metadata": {
        "colab": {
          "base_uri": "https://localhost:8080/"
        },
        "id": "-fGWucMe475d",
        "outputId": "10b02bbb-de1e-4544-b021-feeccd07f0b2"
      },
      "execution_count": null,
      "outputs": [
        {
          "output_type": "execute_result",
          "data": {
            "text/plain": [
              "47"
            ]
          },
          "metadata": {},
          "execution_count": 9
        }
      ]
    },
    {
      "cell_type": "code",
      "source": [
        "#Calculating difference of list and sale price and the percentage of that difference\n",
        "df_3 = df_2.withColumn('DiffOfList&SalePrice', df_2.median_sale_price - df_2.median_list_price)"
      ],
      "metadata": {
        "id": "dLu1Yd4-5EfP"
      },
      "execution_count": 7,
      "outputs": []
    },
    {
      "cell_type": "code",
      "source": [
        "df_3.show(5)"
      ],
      "metadata": {
        "colab": {
          "base_uri": "https://localhost:8080/"
        },
        "id": "2Db6E3D05HvR",
        "outputId": "20045965-02e7-4c38-8e16-73eff25c14dc"
      },
      "execution_count": null,
      "outputs": [
        {
          "output_type": "stream",
          "name": "stdout",
          "text": [
            "+------------+----------+---------------+--------+----------+--------------------+----------------+-----------------+-----------------+------------------+------------------+----------+-------------+------------+---------+----------+-------------------+-------------------+-----------------------+-------------------+------------------------------+-------------------+--------------------+\n",
            "|period_begin|period_end|         region|   state|state_code|       property_type|property_type_id|median_sale_price|median_list_price|       median_ppsf|  median_list_ppsf|homes_sold|pending_sales|new_listings|inventory|median_dom|   avg_sale_to_list|    sold_above_list|off_market_in_two_weeks|parent_metro_region|parent_metro_region_metro_code|       last_updated|DiffOfList&SalePrice|\n",
            "+------------+----------+---------------+--------+----------+--------------------+----------------+-----------------+-----------------+------------------+------------------+----------+-------------+------------+---------+----------+-------------------+-------------------+-----------------------+-------------------+------------------------------+-------------------+--------------------+\n",
            "|  2017-07-01|2017-09-30|Zip Code: 60201|Illinois|        IL|           Townhouse|              13|           434000|           339000| 251.0239445494644|255.19848771266541|        12|            2|           9|        7|        11|0.97986271677433778|0.16666666666666666|                      0|        Chicago, IL|                         16984|2022-01-09 14:29:56|             95000.0|\n",
            "|  2019-06-01|2019-08-31|Zip Code: 22310|Virginia|        VA|     All Residential|              -1|           489950|           489000|286.03777589872607|284.87878787878788|       140|           49|         150|       63|      18.5|  1.001960632514789|0.48571428571428571|    0.40816326530612246|     Washington, DC|                         47894|2022-01-09 14:29:56|               950.0|\n",
            "|  2016-05-01|2016-07-31|Zip Code: 48208|Michigan|        MI|Multi-Family (2-4...|               4|           279000|           373500|111.59999999999999|103.29092920353982|         1|            1|           1|        2|        16| 1.0337161911819193|                  1|                      1|        Detroit, MI|                         19804|2022-01-09 14:29:56|            -94500.0|\n",
            "|  2013-03-01|2013-05-31|Zip Code: 20132|Virginia|        VA|     All Residential|              -1|           450000|           475000|143.36587716254769|157.44084896916257|        62|           30|         114|       90|        28|0.97831632606393082|0.30645161290322581|                    0.5|     Washington, DC|                         47894|2022-01-09 14:29:56|            -25000.0|\n",
            "|  2014-10-01|2014-12-31|Zip Code: 35758| Alabama|        AL|           Townhouse|              13|           125000|           124900|83.265306122448976|89.450620788856085|         7|            1|           6|        7|       207| 0.9668249660622974|0.14285714285714285|                      0|     Huntsville, AL|                         26620|2022-01-09 14:29:56|               100.0|\n",
            "+------------+----------+---------------+--------+----------+--------------------+----------------+-----------------+-----------------+------------------+------------------+----------+-------------+------------+---------+----------+-------------------+-------------------+-----------------------+-------------------+------------------------------+-------------------+--------------------+\n",
            "only showing top 5 rows\n",
            "\n"
          ]
        }
      ]
    },
    {
      "cell_type": "code",
      "source": [
        "from pyspark.sql.functions import *\n",
        "import datetime\n",
        "from pyspark.sql.functions import year, month, dayofmonth\n",
        "from pyspark.sql.functions import sum, col, desc"
      ],
      "metadata": {
        "id": "8Ejbh9-G5Mmx"
      },
      "execution_count": 8,
      "outputs": []
    },
    {
      "cell_type": "code",
      "source": [
        "#Grouping by period begin and calculating average median sale price\n",
        "df_4 = df_3.groupBy(year('period_begin')).agg({'median_sale_price':'avg'}).sort(desc(year(df_3.period_begin)))\n",
        "df_4.show()"
      ],
      "metadata": {
        "colab": {
          "base_uri": "https://localhost:8080/"
        },
        "id": "aLagVGTl5R74",
        "outputId": "5ae628c6-7039-4dab-f7bd-491a625a2f36"
      },
      "execution_count": null,
      "outputs": [
        {
          "output_type": "stream",
          "name": "stdout",
          "text": [
            "+------------------+----------------------+\n",
            "|year(period_begin)|avg(median_sale_price)|\n",
            "+------------------+----------------------+\n",
            "|              2021|    401835.58340094466|\n",
            "|              2020|    362583.99056237936|\n",
            "|              2019|     327523.0125517681|\n",
            "|              2018|     316830.0760047208|\n",
            "|              2017|     299386.2661495026|\n",
            "|              2016|     281396.6058442422|\n",
            "|              2015|     262589.8273512335|\n",
            "|              2014|    236888.15264449312|\n",
            "|              2013|    222190.99115307556|\n",
            "|              2012|     203568.0687816029|\n",
            "+------------------+----------------------+\n",
            "\n"
          ]
        }
      ]
    },
    {
      "cell_type": "code",
      "source": [
        "#Grouping by state and calculating average median sale price\n",
        "df_5 = df_3.groupBy('state_code').agg({'median_sale_price':'avg'}).sort(desc('state_code'))\n",
        "df_5.show()"
      ],
      "metadata": {
        "colab": {
          "base_uri": "https://localhost:8080/"
        },
        "id": "cwWfvVYJ5dBo",
        "outputId": "3c2e6d84-2ea0-40fc-f847-b30cf090c03b"
      },
      "execution_count": null,
      "outputs": [
        {
          "output_type": "stream",
          "name": "stdout",
          "text": [
            "+----------+----------------------+\n",
            "|state_code|avg(median_sale_price)|\n",
            "+----------+----------------------+\n",
            "|        WV|    176733.04015009382|\n",
            "|        WI|     185107.8762431838|\n",
            "|        WA|     354272.3985604759|\n",
            "|        VT|    238820.19213696892|\n",
            "|        VA|     346225.8756535498|\n",
            "|        UT|    295702.58772075834|\n",
            "|        TX|    228807.55905834926|\n",
            "|        TN|     202194.1801501387|\n",
            "|        SC|      220761.695163139|\n",
            "|        RI|    279043.00771734567|\n",
            "|        PA|     194589.5040639796|\n",
            "|        OR|    297355.45440297923|\n",
            "|        OK|    146274.00966060188|\n",
            "|        OH|     161808.5762915278|\n",
            "|        NY|     417966.7571129145|\n",
            "|        NV|     267678.2945781298|\n",
            "|        NM|     326475.7256774404|\n",
            "|        NJ|    335297.06581715145|\n",
            "|        NH|     252588.6696552374|\n",
            "|        NE|    186050.03780650455|\n",
            "+----------+----------------------+\n",
            "only showing top 20 rows\n",
            "\n"
          ]
        }
      ]
    },
    {
      "cell_type": "code",
      "source": [
        "from pyspark import SparkContext\n",
        "from pyspark.sql import SQLContext\n",
        "from pyspark.sql import functions as F\n",
        "from pyspark.sql.window import Window\n",
        "from pyspark.sql.functions import *\n",
        "import datetime\n",
        "from pyspark.sql.functions import year, month, dayofmonth\n",
        "from pyspark.sql.functions import sum, col, desc\n",
        "from pyspark.sql.functions import lit"
      ],
      "metadata": {
        "id": "tg5q6Lyj5eY2"
      },
      "execution_count": 10,
      "outputs": []
    },
    {
      "cell_type": "code",
      "source": [
        "#Calculating difference between median sale price\n",
        "\n",
        "my_window = Window.partitionBy().orderBy(\"period_begin\")\n",
        "\n",
        "df_3 = df_3.withColumn(\"prev_value\", F.lag(\"median_sale_price\").over(my_window))\n",
        "df_3 = df_3.withColumn(\"diff\", F.when(F.isnull(df_3.median_sale_price - df_3.prev_value), 0)\n",
        "                              .otherwise(df_3.median_sale_price - df_3.prev_value))\n",
        "\n",
        "df_3.show()"
      ],
      "metadata": {
        "colab": {
          "base_uri": "https://localhost:8080/"
        },
        "id": "xwILMIhe5iX9",
        "outputId": "b8fc040f-b60c-473c-dc6d-88e1f500b76d"
      },
      "execution_count": 11,
      "outputs": [
        {
          "output_type": "stream",
          "name": "stdout",
          "text": [
            "+------------+----------+---------------+-------------+----------+--------------------+----------------+-----------------+-----------------+------------------+------------------+----------+-------------+------------+---------+----------+-------------------+-------------------+-----------------------+--------------------+------------------------------+-------------------+--------------------+----------+---------+\n",
            "|period_begin|period_end|         region|        state|state_code|       property_type|property_type_id|median_sale_price|median_list_price|       median_ppsf|  median_list_ppsf|homes_sold|pending_sales|new_listings|inventory|median_dom|   avg_sale_to_list|    sold_above_list|off_market_in_two_weeks| parent_metro_region|parent_metro_region_metro_code|       last_updated|DiffOfList&SalePrice|prev_value|     diff|\n",
            "+------------+----------+---------------+-------------+----------+--------------------+----------------+-----------------+-----------------+------------------+------------------+----------+-------------+------------+---------+----------+-------------------+-------------------+-----------------------+--------------------+------------------------------+-------------------+--------------------+----------+---------+\n",
            "|  2012-01-01|2012-03-31|Zip Code: 44053|         Ohio|        OH|     All Residential|              -1|            86500|           115000|59.794372294372295|66.872427983539097|        32|            4|          69|      178|       209|0.90530018417568903|             0.0625|                      0|       Cleveland, OH|                         17460|2022-01-09 14:29:56|            -28500.0|      null|      0.0|\n",
            "|  2012-01-01|2012-03-31|Zip Code: 44146|         Ohio|        OH|         Condo/Co-op|               3|            53000|            27800|35.475234270414994|30.217391304347824|         3|         null|           5|       12|       257| 0.8976997597885531|0.33333333333333331|                   null|       Cleveland, OH|                         17460|2022-01-09 14:29:56|             25200.0|     86500| -33500.0|\n",
            "|  2012-01-01|2012-03-31|Zip Code: 32523|      Florida|        FL|     All Residential|              -1|           335000|             null|             107.2|              null|         1|         null|        null|     null|       131|0.89333333333333331|                  0|                   null|       Pensacola, FL|                         37860|2022-01-09 14:29:56|                null|     53000| 282000.0|\n",
            "|  2012-01-01|2012-03-31|Zip Code: 11558|     New York|        NY|Multi-Family (2-4...|               4|           235000|           429000|11.627906976744185|214.45208903960696|         1|            2|           4|        4|      1263| 1.0444444444444445|                  1|                      0|   Nassau County, NY|                         35004|2022-01-09 14:29:56|           -194000.0|    335000|-100000.0|\n",
            "|  2012-01-01|2012-03-31|Zip Code: 80214|     Colorado|        CO|     All Residential|              -1|           132050|           189900| 86.79245283018868|109.01162790697674|        59|           18|          89|       73|        70|0.94992009297714997|0.16949152542372881|                    0.5|          Denver, CO|                         19740|2022-01-09 14:29:56|            -57850.0|    235000|-102950.0|\n",
            "|  2012-01-01|2012-03-31|Zip Code: 03064|New Hampshire|        NH|     All Residential|              -1|         199416.5|           182350|124.39901760825394|111.28467153284672|        22|            4|          40|       58|        99|0.96656105186853625|0.18181818181818182|                      0|      Manchester, NH|                         31700|2022-01-09 14:29:56|             17066.5|    132050|  67366.5|\n",
            "|  2012-01-01|2012-03-31|Zip Code: 05201|      Vermont|        VT|         Condo/Co-op|               3|           133500|            89000|133.93299189073838|108.66910866910867|         2|         null|           1|        4|     339.5|0.95351883289626482|                  0|                   null|      Bennington, VT|                         13540|2022-01-09 14:29:56|             44500.0|  199416.5| -65916.5|\n",
            "|  2012-01-01|2012-03-31|Zip Code: 22556|     Virginia|        VA|Single Family Res...|               6|           275000|           298000|110.04401760704282|122.61647221302333|        57|           25|         108|       87|      69.5|0.97921652988495422|0.15789473684210525|    0.47999999999999998|      Washington, DC|                         47894|2022-01-09 14:29:56|            -23000.0|    133500| 141500.0|\n",
            "|  2012-01-01|2012-03-31|Zip Code: 32459|      Florida|        FL|Single Family Res...|               6|           309500|           834900|152.08695652173913|373.05630026809649|       134|         null|           1|        2|      null|0.93683897005963368|0.17164179104477612|                   null|       Crestview, FL|                         18880|2022-01-09 14:29:56|           -525400.0|    275000|  34500.0|\n",
            "|  2012-01-01|2012-03-31|Zip Code: 44137|         Ohio|        OH|         Condo/Co-op|               3|            17600|            14000|19.642857142857146|            15.625|         2|            1|           1|        2|        99|0.71757093622028723|                  0|                      0|       Cleveland, OH|                         17460|2022-01-09 14:29:56|              3600.0|    309500|-291900.0|\n",
            "|  2012-01-01|2012-03-31|Zip Code: 45430|         Ohio|        OH|Single Family Res...|               6|           135500|           161400|75.617283950617278|86.697002923976612|         9|            4|          23|       34|       167|0.97834135952346957| 0.1111111111111111|                   0.25|          Dayton, OH|                         19430|2022-01-09 14:29:56|            -25900.0|     17600| 117900.0|\n",
            "|  2012-01-01|2012-03-31|Zip Code: 06092|  Connecticut|        CT|Single Family Res...|               6|           382500|           387450|145.78473842052648| 150.8729827028796|         7|            3|          22|       31|       160|0.94112420536993258|                  0|                      0|        Hartford, CT|                         25540|2022-01-09 14:29:56|             -4950.0|    135500| 247000.0|\n",
            "|  2012-01-01|2012-03-31|Zip Code: 03222|New Hampshire|        NH|Single Family Res...|               6|           138011|           154900| 121.7948717948718|95.279164775306398|         7|            1|          19|       25|       109|0.93528494563841313|0.14285714285714285|                      0|         Lebanon, NH|                         30100|2022-01-09 14:29:56|            -16889.0|    382500|-244489.0|\n",
            "|  2012-01-01|2012-03-31|Zip Code: 19057| Pennsylvania|        PA|         Condo/Co-op|               3|           134500|           123000|92.755388940955953|100.88383838383839|         4|            3|           4|        3|     108.5|0.92963457593039545|                  0|    0.33333333333333331|Montgomery County...|                         33874|2022-01-09 14:29:56|             11500.0|    138011|  -3511.0|\n",
            "|  2012-01-01|2012-03-31|Zip Code: 20711|     Maryland|        MD|Single Family Res...|               6|           421400|           382500| 134.6956651161982|169.16250693288964|        10|            2|          23|       31|       279|0.91797039595353591|                  0|                    0.5|       Baltimore, MD|                         12580|2022-01-09 14:29:56|             38900.0|    134500| 286900.0|\n",
            "|  2012-01-01|2012-03-31|Zip Code: 47115|      Indiana|        IN|Single Family Res...|               6|          21058.5|           115000|19.901327392555462|52.415679124886054|         2|            2|           5|        4|      52.5|0.76923076923076927|                  0|                      0|      Louisville, KY|                         31140|2022-01-09 14:29:56|            -93941.5|    421400|-400341.5|\n",
            "|  2012-01-01|2012-03-31|Zip Code: 98168|   Washington|        WA|Multi-Family (2-4...|               4|           157000|           183875| 71.36363636363636|90.530547662102805|         1|         null|           2|        4|        58|0.92380111797587527|                  0|                   null|         Seattle, WA|                         42644|2022-01-09 14:29:56|            -26875.0|   21058.5| 135941.5|\n",
            "|  2012-01-01|2012-03-31|Zip Code: 35049|      Alabama|        AL|Single Family Res...|               6|           105700|           132000|67.543195952826238|94.582866295717324|         4|         null|           3|        9|     126.5| 1.0069902263611636|                0.5|                   null|      Birmingham, AL|                         13820|2022-01-09 14:29:56|            -26300.0|    157000| -51300.0|\n",
            "|  2012-01-01|2012-03-31|Zip Code: 43240|         Ohio|        OH|         Condo/Co-op|               3|           135000|           150000|92.653508771929822|96.058347233805961|         9|            2|          14|       11|       275|0.96415756192332025|0.22222222222222221|                      0|        Columbus, OH|                         18140|2022-01-09 14:29:56|            -15000.0|    105700|  29300.0|\n",
            "|  2012-01-01|2012-03-31|Zip Code: 91941|   California|        CA|Multi-Family (2-4...|               4|           290500|           312450|              null|176.41176470588235|         2|            2|           4|        1|     213.5|0.84723346336426719|                  0|                    0.5|       San Diego, CA|                         41740|2022-01-09 14:29:56|            -21950.0|    135000| 155500.0|\n",
            "+------------+----------+---------------+-------------+----------+--------------------+----------------+-----------------+-----------------+------------------+------------------+----------+-------------+------------+---------+----------+-------------------+-------------------+-----------------------+--------------------+------------------------------+-------------------+--------------------+----------+---------+\n",
            "only showing top 20 rows\n",
            "\n"
          ]
        }
      ]
    },
    {
      "cell_type": "code",
      "source": [
        "#Spliting Region Column and add a new column named zip code\n",
        "from pyspark.sql.functions import split\n",
        " \n",
        "df_zipcode = df_3.withColumn(\"ZIP_Code\", split(col(\"region\"), \": \").getItem(1))\n",
        "df_zipcode.show()"
      ],
      "metadata": {
        "colab": {
          "base_uri": "https://localhost:8080/"
        },
        "id": "hZgF5VaQWuHw",
        "outputId": "6e398a00-85b7-4374-c0fc-83868b29cef7"
      },
      "execution_count": null,
      "outputs": [
        {
          "output_type": "stream",
          "name": "stdout",
          "text": [
            "+------------+----------+---------------+-------------+----------+--------------------+----------------+-----------------+-----------------+------------------+------------------+----------+-------------+------------+---------+----------+-------------------+-------------------+-----------------------+--------------------+------------------------------+-------------------+--------------------+----------+---------+--------+\n",
            "|period_begin|period_end|         region|        state|state_code|       property_type|property_type_id|median_sale_price|median_list_price|       median_ppsf|  median_list_ppsf|homes_sold|pending_sales|new_listings|inventory|median_dom|   avg_sale_to_list|    sold_above_list|off_market_in_two_weeks| parent_metro_region|parent_metro_region_metro_code|       last_updated|DiffOfList&SalePrice|prev_value|     diff|ZIP_Code|\n",
            "+------------+----------+---------------+-------------+----------+--------------------+----------------+-----------------+-----------------+------------------+------------------+----------+-------------+------------+---------+----------+-------------------+-------------------+-----------------------+--------------------+------------------------------+-------------------+--------------------+----------+---------+--------+\n",
            "|  2012-01-01|2012-03-31|Zip Code: 44053|         Ohio|        OH|     All Residential|              -1|            86500|           115000|59.794372294372295|66.872427983539097|        32|            4|          69|      178|       209|0.90530018417568903|             0.0625|                      0|       Cleveland, OH|                         17460|2022-01-09 14:29:56|            -28500.0|      null|      0.0|   44053|\n",
            "|  2012-01-01|2012-03-31|Zip Code: 44146|         Ohio|        OH|         Condo/Co-op|               3|            53000|            27800|35.475234270414994|30.217391304347824|         3|         null|           5|       12|       257| 0.8976997597885531|0.33333333333333331|                   null|       Cleveland, OH|                         17460|2022-01-09 14:29:56|             25200.0|     86500| -33500.0|   44146|\n",
            "|  2012-01-01|2012-03-31|Zip Code: 32523|      Florida|        FL|     All Residential|              -1|           335000|             null|             107.2|              null|         1|         null|        null|     null|       131|0.89333333333333331|                  0|                   null|       Pensacola, FL|                         37860|2022-01-09 14:29:56|                null|     53000| 282000.0|   32523|\n",
            "|  2012-01-01|2012-03-31|Zip Code: 11558|     New York|        NY|Multi-Family (2-4...|               4|           235000|           429000|11.627906976744185|214.45208903960696|         1|            2|           4|        4|      1263| 1.0444444444444445|                  1|                      0|   Nassau County, NY|                         35004|2022-01-09 14:29:56|           -194000.0|    335000|-100000.0|   11558|\n",
            "|  2012-01-01|2012-03-31|Zip Code: 80214|     Colorado|        CO|     All Residential|              -1|           132050|           189900| 86.79245283018868|109.01162790697674|        59|           18|          89|       73|        70|0.94992009297714997|0.16949152542372881|                    0.5|          Denver, CO|                         19740|2022-01-09 14:29:56|            -57850.0|    235000|-102950.0|   80214|\n",
            "|  2012-01-01|2012-03-31|Zip Code: 03064|New Hampshire|        NH|     All Residential|              -1|         199416.5|           182350|124.39901760825394|111.28467153284672|        22|            4|          40|       58|        99|0.96656105186853625|0.18181818181818182|                      0|      Manchester, NH|                         31700|2022-01-09 14:29:56|             17066.5|    132050|  67366.5|   03064|\n",
            "|  2012-01-01|2012-03-31|Zip Code: 05201|      Vermont|        VT|         Condo/Co-op|               3|           133500|            89000|133.93299189073838|108.66910866910867|         2|         null|           1|        4|     339.5|0.95351883289626482|                  0|                   null|      Bennington, VT|                         13540|2022-01-09 14:29:56|             44500.0|  199416.5| -65916.5|   05201|\n",
            "|  2012-01-01|2012-03-31|Zip Code: 22556|     Virginia|        VA|Single Family Res...|               6|           275000|           298000|110.04401760704282|122.61647221302333|        57|           25|         108|       87|      69.5|0.97921652988495422|0.15789473684210525|    0.47999999999999998|      Washington, DC|                         47894|2022-01-09 14:29:56|            -23000.0|    133500| 141500.0|   22556|\n",
            "|  2012-01-01|2012-03-31|Zip Code: 32459|      Florida|        FL|Single Family Res...|               6|           309500|           834900|152.08695652173913|373.05630026809649|       134|         null|           1|        2|      null|0.93683897005963368|0.17164179104477612|                   null|       Crestview, FL|                         18880|2022-01-09 14:29:56|           -525400.0|    275000|  34500.0|   32459|\n",
            "|  2012-01-01|2012-03-31|Zip Code: 44137|         Ohio|        OH|         Condo/Co-op|               3|            17600|            14000|19.642857142857146|            15.625|         2|            1|           1|        2|        99|0.71757093622028723|                  0|                      0|       Cleveland, OH|                         17460|2022-01-09 14:29:56|              3600.0|    309500|-291900.0|   44137|\n",
            "|  2012-01-01|2012-03-31|Zip Code: 45430|         Ohio|        OH|Single Family Res...|               6|           135500|           161400|75.617283950617278|86.697002923976612|         9|            4|          23|       34|       167|0.97834135952346957| 0.1111111111111111|                   0.25|          Dayton, OH|                         19430|2022-01-09 14:29:56|            -25900.0|     17600| 117900.0|   45430|\n",
            "|  2012-01-01|2012-03-31|Zip Code: 06092|  Connecticut|        CT|Single Family Res...|               6|           382500|           387450|145.78473842052648| 150.8729827028796|         7|            3|          22|       31|       160|0.94112420536993258|                  0|                      0|        Hartford, CT|                         25540|2022-01-09 14:29:56|             -4950.0|    135500| 247000.0|   06092|\n",
            "|  2012-01-01|2012-03-31|Zip Code: 03222|New Hampshire|        NH|Single Family Res...|               6|           138011|           154900| 121.7948717948718|95.279164775306398|         7|            1|          19|       25|       109|0.93528494563841313|0.14285714285714285|                      0|         Lebanon, NH|                         30100|2022-01-09 14:29:56|            -16889.0|    382500|-244489.0|   03222|\n",
            "|  2012-01-01|2012-03-31|Zip Code: 19057| Pennsylvania|        PA|         Condo/Co-op|               3|           134500|           123000|92.755388940955953|100.88383838383839|         4|            3|           4|        3|     108.5|0.92963457593039545|                  0|    0.33333333333333331|Montgomery County...|                         33874|2022-01-09 14:29:56|             11500.0|    138011|  -3511.0|   19057|\n",
            "|  2012-01-01|2012-03-31|Zip Code: 20711|     Maryland|        MD|Single Family Res...|               6|           421400|           382500| 134.6956651161982|169.16250693288964|        10|            2|          23|       31|       279|0.91797039595353591|                  0|                    0.5|       Baltimore, MD|                         12580|2022-01-09 14:29:56|             38900.0|    134500| 286900.0|   20711|\n",
            "|  2012-01-01|2012-03-31|Zip Code: 47115|      Indiana|        IN|Single Family Res...|               6|          21058.5|           115000|19.901327392555462|52.415679124886054|         2|            2|           5|        4|      52.5|0.76923076923076927|                  0|                      0|      Louisville, KY|                         31140|2022-01-09 14:29:56|            -93941.5|    421400|-400341.5|   47115|\n",
            "|  2012-01-01|2012-03-31|Zip Code: 98168|   Washington|        WA|Multi-Family (2-4...|               4|           157000|           183875| 71.36363636363636|90.530547662102805|         1|         null|           2|        4|        58|0.92380111797587527|                  0|                   null|         Seattle, WA|                         42644|2022-01-09 14:29:56|            -26875.0|   21058.5| 135941.5|   98168|\n",
            "|  2012-01-01|2012-03-31|Zip Code: 35049|      Alabama|        AL|Single Family Res...|               6|           105700|           132000|67.543195952826238|94.582866295717324|         4|         null|           3|        9|     126.5| 1.0069902263611636|                0.5|                   null|      Birmingham, AL|                         13820|2022-01-09 14:29:56|            -26300.0|    157000| -51300.0|   35049|\n",
            "|  2012-01-01|2012-03-31|Zip Code: 43240|         Ohio|        OH|         Condo/Co-op|               3|           135000|           150000|92.653508771929822|96.058347233805961|         9|            2|          14|       11|       275|0.96415756192332025|0.22222222222222221|                      0|        Columbus, OH|                         18140|2022-01-09 14:29:56|            -15000.0|    105700|  29300.0|   43240|\n",
            "|  2012-01-01|2012-03-31|Zip Code: 91941|   California|        CA|Multi-Family (2-4...|               4|           290500|           312450|              null|176.41176470588235|         2|            2|           4|        1|     213.5|0.84723346336426719|                  0|                    0.5|       San Diego, CA|                         41740|2022-01-09 14:29:56|            -21950.0|    135000| 155500.0|   91941|\n",
            "+------------+----------+---------------+-------------+----------+--------------------+----------------+-----------------+-----------------+------------------+------------------+----------+-------------+------------+---------+----------+-------------------+-------------------+-----------------------+--------------------+------------------------------+-------------------+--------------------+----------+---------+--------+\n",
            "only showing top 20 rows\n",
            "\n"
          ]
        }
      ]
    },
    {
      "cell_type": "code",
      "source": [
        "#Counting distint zip code\n",
        "zip_count = df_3.select('region').distinct().count()\n",
        "zip_count\n"
      ],
      "metadata": {
        "colab": {
          "base_uri": "https://localhost:8080/"
        },
        "id": "SIrjlEz_U3R-",
        "outputId": "a78335c5-04ca-441d-9095-d944609312a5"
      },
      "execution_count": null,
      "outputs": [
        {
          "output_type": "execute_result",
          "data": {
            "text/plain": [
              "18817"
            ]
          },
          "metadata": {},
          "execution_count": 24
        }
      ]
    },
    {
      "cell_type": "code",
      "source": [
        "#Grouping by state and calculating average difference of median sale price\n",
        "df_6 = df_3.groupBy('state_code').agg({'diff':'avg'}).sort(desc('state_code'))\n",
        "df_6.show()"
      ],
      "metadata": {
        "colab": {
          "base_uri": "https://localhost:8080/"
        },
        "id": "0rRSWzkD5lMA",
        "outputId": "75a4f05e-018d-4b68-95a0-019d66390f97"
      },
      "execution_count": null,
      "outputs": [
        {
          "output_type": "stream",
          "name": "stdout",
          "text": [
            "+----------+-------------------+\n",
            "|state_code|          avg(diff)|\n",
            "+----------+-------------------+\n",
            "|        WV|-110777.98944652909|\n",
            "|        WI|-122361.54200876813|\n",
            "|        WA|  59249.19562622059|\n",
            "|        VT| -50301.31878932735|\n",
            "|        VA|  52927.93969713126|\n",
            "|        UT| -9741.546015946202|\n",
            "|        TX| -62754.06183071034|\n",
            "|        TN|-106925.99217211554|\n",
            "|        SC| -91074.74045999847|\n",
            "|        RI| -9920.015277194456|\n",
            "|        PA| -95371.50993527369|\n",
            "|        OR|  6345.578071571748|\n",
            "|        OK|-146627.44282516264|\n",
            "|        OH|-128739.81936908046|\n",
            "|        NY| 119195.89756566526|\n",
            "|        NV| -22759.28677023048|\n",
            "|        NM| 28224.968005223636|\n",
            "|        NJ| 33476.293601061276|\n",
            "|        NH| -37777.25948736588|\n",
            "|        NE|-104403.57103467734|\n",
            "+----------+-------------------+\n",
            "only showing top 20 rows\n",
            "\n"
          ]
        }
      ]
    },
    {
      "cell_type": "code",
      "source": [
        "# convert dataframe to dictionary \n",
        "# Visualuizing Date vs. Median Sale Price of Redfin Data\n",
        "import matplotlib.pyplot as plt\n",
        "dict = df_4.rdd.collectAsMap()\n",
        "plt.bar(list(dict.keys()), dict.values(), color='g')\n",
        "plt.xlabel(\"year\",fontsize=10)\n",
        "plt.ylabel(\"Median Sale Price\",fontsize=10)\n",
        "plt.title(\"Date Vs. Median Sale Price of Redfin Data\",fontsize=20)"
      ],
      "metadata": {
        "colab": {
          "base_uri": "https://localhost:8080/",
          "height": 317
        },
        "id": "AWN_-a9m5nVO",
        "outputId": "96e2656a-96f7-4124-ac11-4c82645322f4"
      },
      "execution_count": null,
      "outputs": [
        {
          "output_type": "execute_result",
          "data": {
            "text/plain": [
              "Text(0.5, 1.0, 'Date Vs. Median Sale Price of Redfin Data')"
            ]
          },
          "metadata": {},
          "execution_count": 19
        },
        {
          "output_type": "display_data",
          "data": {
            "text/plain": [
              "<Figure size 432x288 with 1 Axes>"
            ],
            "image/png": "[encoded data removed]"
          },
          "metadata": {
            "needs_background": "light"
          }
        }
      ]
    },
    {
      "cell_type": "code",
      "source": [
        "#Grouping by state_code and calculating sum of homes sold\n",
        "df_7 = df_3.groupBy('state_code').agg({'homes_sold':'sum'}).sort(desc('state_code'))\n",
        "df_7.show()"
      ],
      "metadata": {
        "colab": {
          "base_uri": "https://localhost:8080/"
        },
        "id": "g-8nqn6Y7T5W",
        "outputId": "4914f680-2acf-4479-bab6-3f334b8f0e1f"
      },
      "execution_count": null,
      "outputs": [
        {
          "output_type": "stream",
          "name": "stdout",
          "text": [
            "+----------+---------------+\n",
            "|state_code|sum(homes_sold)|\n",
            "+----------+---------------+\n",
            "|        WV|       231252.0|\n",
            "|        WI|      3154496.0|\n",
            "|        WA|      6200008.0|\n",
            "|        VT|       341600.0|\n",
            "|        VA|      5122254.0|\n",
            "|        UT|      2483498.0|\n",
            "|        TX|    1.6001554E7|\n",
            "|        TN|      4232576.0|\n",
            "|        SC|      3155930.0|\n",
            "|        RI|       831618.0|\n",
            "|        PA|      6835910.0|\n",
            "|        OR|      3433796.0|\n",
            "|        OK|      2358712.0|\n",
            "|        OH|      7672028.0|\n",
            "|        NY|      6753402.0|\n",
            "|        NV|      3229686.0|\n",
            "|        NM|       157080.0|\n",
            "|        NJ|      5826306.0|\n",
            "|        NH|      1188340.0|\n",
            "|        NE|      1069648.0|\n",
            "+----------+---------------+\n",
            "only showing top 20 rows\n",
            "\n"
          ]
        }
      ]
    },
    {
      "cell_type": "code",
      "source": [
        "# convert dataframe to dictionary \n",
        "# Visualizing number of homes sold in different states\n",
        "import matplotlib.pyplot as plt\n",
        "%matplotlib inline\n",
        "import seaborn as sns\n",
        "import pandas as pd\n",
        "\n",
        "dict = df_7.rdd.collectAsMap()\n",
        "plt.bar(list(dict.keys()), dict.values(), color='g')\n",
        "plt.xlabel(\"state\",fontsize=20)\n",
        "plt.xticks(rotation=90)\n",
        "plt.ylabel(\"Homes Sold\",fontsize=20)\n",
        "plt.title(\"Number of Homes sold in different States\",fontsize=20)\n",
        "plt.gcf().set_size_inches(10,5)"
      ],
      "metadata": {
        "colab": {
          "base_uri": "https://localhost:8080/",
          "height": 370
        },
        "id": "nZJbUlDc8udD",
        "outputId": "73e4cb5c-b9cf-4574-f1e4-82f564193c23"
      },
      "execution_count": null,
      "outputs": [
        {
          "output_type": "display_data",
          "data": {
            "text/plain": [
              "<Figure size 720x360 with 1 Axes>"
            ],
            "image/png": "[encoded data removed]"
          },
          "metadata": {
            "needs_background": "light"
          }
        }
      ]
    },
    {
      "cell_type": "code",
      "source": [
        "#Grouping by year and calculating sum of homes sold \n",
        "df_8 = df_3.groupBy(year('period_begin')).agg({'homes_sold':'sum'}).sort(desc(year('period_begin')))\n",
        "df_8.show()"
      ],
      "metadata": {
        "id": "5yXalD1LpgiK",
        "colab": {
          "base_uri": "https://localhost:8080/"
        },
        "outputId": "afbd458a-8e84-4a5e-b01a-a197e30fc33d"
      },
      "execution_count": 12,
      "outputs": [
        {
          "output_type": "stream",
          "name": "stdout",
          "text": [
            "+------------------+---------------+\n",
            "|year(period_begin)|sum(homes_sold)|\n",
            "+------------------+---------------+\n",
            "|              2021|    2.1533092E7|\n",
            "|              2020|    2.2866564E7|\n",
            "|              2019|    2.1703092E7|\n",
            "|              2018|     2.129468E7|\n",
            "|              2017|     2.146457E7|\n",
            "|              2016|     2.086591E7|\n",
            "|              2015|    1.9596474E7|\n",
            "|              2014|    1.6961434E7|\n",
            "|              2013|    1.6730922E7|\n",
            "|              2012|    1.4728378E7|\n",
            "+------------------+---------------+\n",
            "\n"
          ]
        }
      ]
    },
    {
      "cell_type": "code",
      "source": [
        "#Visualizing total house sold per yaer using Redfin data\n",
        "import matplotlib.pyplot as plt\n",
        "from matplotlib.ticker import (MultipleLocator, FormatStrFormatter,AutoMinorLocator)\n",
        "\n",
        "dict = df_8.rdd.collectAsMap()\n",
        "plt.bar(list(dict.keys()), dict.values(), color='y')\n",
        "plt.xlabel(\"year\",fontsize=10)\n",
        "plt.xticks(rotation=90)\n",
        "\n",
        "plt.ylabel(\"Total houses sold per year\",fontsize=10)\n",
        "plt.title(\"Total houses sold per year in Redfin data\",fontsize=20)\n",
        "plt.gcf().set_size_inches(10,5)"
      ],
      "metadata": {
        "id": "tXMLnPXDqfed",
        "colab": {
          "base_uri": "https://localhost:8080/",
          "height": 370
        },
        "outputId": "431f9df0-2555-444f-b34b-a8d15e7becaa"
      },
      "execution_count": 13,
      "outputs": [
        {
          "output_type": "display_data",
          "data": {
            "text/plain": [
              "<Figure size 720x360 with 1 Axes>"
            ],
            "image/png": "[encoded data removed]"
          },
          "metadata": {
            "needs_background": "light"
          }
        }
      ]
    },
    {
      "cell_type": "code",
      "source": [
        "# convert dataframe to dictionary \n",
        "# Visualizing State vs. Median Sale Price of Redfin Data\n",
        "import matplotlib.pyplot as plt\n",
        "dict = df_5.rdd.collectAsMap()\n",
        "plt.bar(list(dict.keys()), dict.values(), color='b')\n",
        "plt.xlabel(\"State\",fontsize=10)\n",
        "plt.xticks(rotation=90)\n",
        "plt.ylabel(\"Median Sale Price\",fontsize=10)\n",
        "plt.title(\"State Vs. Median Sale Price of Redfin Data\",fontsize=20)\n",
        "plt.gcf().set_size_inches(10,5)"
      ],
      "metadata": {
        "colab": {
          "base_uri": "https://localhost:8080/",
          "height": 361
        },
        "id": "lMyJoZcc5nad",
        "outputId": "66bec8d5-b4fa-413e-b006-4e8f844f6443"
      },
      "execution_count": null,
      "outputs": [
        {
          "output_type": "display_data",
          "data": {
            "text/plain": [
              "<Figure size 720x360 with 1 Axes>"
            ],
            "image/png": "[encoded data removed]"
          },
          "metadata": {
            "needs_background": "light"
          }
        }
      ]
    },
    {
      "cell_type": "code",
      "source": [
        "#Visualizing State vs. Difference of median Sale Price of Redfin data\n",
        "import matplotlib.pyplot as plt\n",
        "dict = df_6.rdd.collectAsMap()\n",
        "plt.bar(list(dict.keys()), dict.values(), color='lightblue')\n",
        "plt.xlabel(\"State\",fontsize=10)\n",
        "plt.xticks(rotation=90)\n",
        "plt.ylabel(\"Difference of Median Sale Price\",fontsize=10)\n",
        "plt.title(\"State Vs. Difference of Median Sale Price of Redfin Data\",fontsize=20)\n",
        "plt.gcf().set_size_inches(10,5)"
      ],
      "metadata": {
        "colab": {
          "base_uri": "https://localhost:8080/",
          "height": 361
        },
        "id": "_YsSGfc85skf",
        "outputId": "ff186272-78ae-4031-e624-24b4c81c90c9"
      },
      "execution_count": null,
      "outputs": [
        {
          "output_type": "display_data",
          "data": {
            "text/plain": [
              "<Figure size 720x360 with 1 Axes>"
            ],
            "image/png": "[encoded data removed]"
          },
          "metadata": {
            "needs_background": "light"
          }
        }
      ]
    },
    {
      "cell_type": "code",
      "source": [
        "## https://api.census.gov/data/2020/acs/acs5/variables.html lists all the possible variable keys for the API Request\n",
        "## Below provides a DF with the ZIP Code and the Median household income.\n",
        "## Need to initialize spark session first\n",
        "##CODE\n",
        "import requests \n",
        "from pyspark import SparkContext\n",
        "from pyspark.sql import SQLContext\n",
        "from pyspark.sql import functions as F\n",
        "from pyspark.sql.window import Window\n",
        "from pyspark.sql.functions import *\n",
        "\n",
        "\n"
      ],
      "metadata": {
        "id": "CPgkrHVV5vEu"
      },
      "execution_count": null,
      "outputs": []
    },
    {
      "cell_type": "code",
      "source": [
        "from pyspark.sql.types import *\n",
        "from pyspark.sql import SparkSession\n",
        "\n",
        "spark = SparkSession.builder\\\n",
        "        .master(\"local\")\\\n",
        "        .appName(\"Colab\")\\\n",
        "        .config('spark.ui.port', '4050')\\\n",
        "        .getOrCreate()"
      ],
      "metadata": {
        "id": "eoG47L80UVqf"
      },
      "execution_count": null,
      "outputs": []
    },
    {
      "cell_type": "code",
      "source": [
        "#from pyspark.sql import *\n",
        "census_API_call = requests.get('https://api.census.gov/data/2020/acs/acs5?get=NAME,B19013_001E&for=zip%20code%20tabulation%20area:*&key=46d133e794f5998e012ea4e0d83d6fb6085136b0')\n",
        "census_JSON = census_API_call.json()\n",
        "\n",
        "schema = StructType([\n",
        "   StructField(\"ZCTA5_Code\", StringType(), True),\n",
        "   StructField(\"Median_Income\", StringType(), True),\n",
        "   StructField(\"ZIP_Code\", StringType(), True)])\n",
        "census_df = spark.createDataFrame(census_JSON[1:], schema)\n"
      ],
      "metadata": {
        "id": "v1hsCDICUdfO"
      },
      "execution_count": null,
      "outputs": []
    },
    {
      "cell_type": "code",
      "source": [
        "census_df.count()\n",
        "census_df.show(n=10)"
      ],
      "metadata": {
        "colab": {
          "base_uri": "https://localhost:8080/"
        },
        "id": "Ycaj5aP5Uk_V",
        "outputId": "8e72c4c2-940f-4598-922b-aeca9f117e09"
      },
      "execution_count": null,
      "outputs": [
        {
          "output_type": "stream",
          "name": "stdout",
          "text": [
            "+-----------+-------------+--------+\n",
            "| ZCTA5_Code|Median_Income|ZIP_Code|\n",
            "+-----------+-------------+--------+\n",
            "|ZCTA5 29590|        30985|   29590|\n",
            "|ZCTA5 93306|        54450|   93306|\n",
            "|ZCTA5 93660|        39625|   93660|\n",
            "|ZCTA5 93110|        93264|   93110|\n",
            "|ZCTA5 93212|        42983|   93212|\n",
            "|ZCTA5 14895|        48778|   14895|\n",
            "|ZCTA5 14006|        56017|   14006|\n",
            "|ZCTA5 67514|        46875|   67514|\n",
            "|ZCTA5 67844|        47262|   67844|\n",
            "|ZCTA5 67861|        59201|   67861|\n",
            "+-----------+-------------+--------+\n",
            "only showing top 10 rows\n",
            "\n"
          ]
        }
      ]
    },
    {
      "cell_type": "code",
      "source": [
        "# Join two dataframes to reflect the sales price and median income based on the zipcode\n",
        "df_merged = df_zipcode.join(census_df, 'ZIP_Code',)\\\n",
        "                                                .select(df_zipcode['ZIP_Code'], \n",
        "                                                df_zipcode['median_sale_price'],\n",
        "                                                df_zipcode['median_list_price'],\n",
        "                                                df_zipcode['property_type'],\n",
        "                                                df_zipcode['period_begin'],\n",
        "                                                df_zipcode['homes_sold'],\n",
        "                                                df_zipcode['state'], \n",
        "                                                census_df['Median_Income']).sort(df_zipcode.period_begin.asc())"
      ],
      "metadata": {
        "id": "fYPCQw-gYtoQ"
      },
      "execution_count": null,
      "outputs": []
    },
    {
      "cell_type": "code",
      "source": [
        "df_merged.show(30)"
      ],
      "metadata": {
        "colab": {
          "base_uri": "https://localhost:8080/"
        },
        "id": "XsAgAQztatvk",
        "outputId": "3afebba8-ffd3-4b70-9f86-24f12b94da57"
      },
      "execution_count": null,
      "outputs": [
        {
          "output_type": "stream",
          "name": "stdout",
          "text": [
            "+--------+-----------------+-----------------+--------------------+------------+----------+-------------+-------------+\n",
            "|ZIP_Code|median_sale_price|median_list_price|       property_type|period_begin|homes_sold|        state|Median_Income|\n",
            "+--------+-----------------+-----------------+--------------------+------------+----------+-------------+-------------+\n",
            "|   14204|            89000|           104700|Single Family Res...|  2012-01-01|         2|     New York|        22989|\n",
            "|   30002|            46550|           196200|     All Residential|  2012-01-01|        14|      Georgia|        66339|\n",
            "|   14204|            14023|            50000|Multi-Family (2-4...|  2012-01-01|         1|     New York|        22989|\n",
            "|   02053|           166500|           219900|         Condo/Co-op|  2012-01-01|         2|Massachusetts|       139688|\n",
            "|   15634|            57500|           109900|     All Residential|  2012-01-01|         3| Pennsylvania|   -666666666|\n",
            "|   02053|           283000|           361400|Single Family Res...|  2012-01-01|        22|Massachusetts|       139688|\n",
            "|   15634|            57500|           109900|Single Family Res...|  2012-01-01|         3| Pennsylvania|   -666666666|\n",
            "|   02090|           550000|           620000|Single Family Res...|  2012-01-01|        15|Massachusetts|       159776|\n",
            "|   17401|            21700|            38900|           Townhouse|  2012-01-01|        15| Pennsylvania|        31497|\n",
            "|   03442|            46000|           109900|     All Residential|  2012-01-01|         1|New Hampshire|        62802|\n",
            "|   17401|            25000|            29900|Single Family Res...|  2012-01-01|         5| Pennsylvania|        31497|\n",
            "|   06382|           164750|           194450|Single Family Res...|  2012-01-01|        12|  Connecticut|        78984|\n",
            "|   17401|            22000|            40000|     All Residential|  2012-01-01|        25| Pennsylvania|        31497|\n",
            "|   06382|           159500|           187450|     All Residential|  2012-01-01|        13|  Connecticut|        78984|\n",
            "|   17401|            54000|            49900|Multi-Family (2-4...|  2012-01-01|         5| Pennsylvania|        31497|\n",
            "|   08648|           186250|           240000|     All Residential|  2012-01-01|        38|   New Jersey|       108772|\n",
            "|   18509|          36349.5|             null|Multi-Family (2-4...|  2012-01-01|         4| Pennsylvania|        44852|\n",
            "|   08648|            68000|           209000|Multi-Family (2-4...|  2012-01-01|         1|   New Jersey|       108772|\n",
            "|   18509|            59575|             null|Single Family Res...|  2012-01-01|         7| Pennsylvania|        44852|\n",
            "|   11563|           292500|           379000|     All Residential|  2012-01-01|        43|     New York|       117988|\n",
            "|   18509|            37699|             null|     All Residential|  2012-01-01|        11| Pennsylvania|        44852|\n",
            "|   11563|           355000|           482000|Multi-Family (2-4...|  2012-01-01|         7|     New York|       117988|\n",
            "|   18947|           349500|           447445|Single Family Res...|  2012-01-01|         8| Pennsylvania|       112205|\n",
            "|   11722|           165000|           187000|     All Residential|  2012-01-01|        61|     New York|        79432|\n",
            "|   18947|           226300|           259900|           Townhouse|  2012-01-01|         1| Pennsylvania|       112205|\n",
            "|   11722|           205000|           179000|Multi-Family (2-4...|  2012-01-01|         2|     New York|        79432|\n",
            "|   18947|           324000|           369900|     All Residential|  2012-01-01|         9| Pennsylvania|       112205|\n",
            "|   14204|            68000|            65700|     All Residential|  2012-01-01|         3|     New York|        22989|\n",
            "|   19095|            63000|            99900|         Condo/Co-op|  2012-01-01|         1| Pennsylvania|        92859|\n",
            "|   19095|           215000|           254900|Single Family Res...|  2012-01-01|         9| Pennsylvania|        92859|\n",
            "+--------+-----------------+-----------------+--------------------+------------+----------+-------------+-------------+\n",
            "only showing top 30 rows\n",
            "\n"
          ]
        }
      ]
    }
  ]
}