{
  "nbformat": 4,
  "nbformat_minor": 0,
  "metadata": {
    "colab": {
      "name": "hs_project1.ipynb",
      "provenance": [],
      "collapsed_sections": [],
      "include_colab_link": true
    },
    "kernelspec": {
      "name": "python3",
      "display_name": "Python 3"
    },
    "language_info": {
      "name": "python"
    }
  },
  "cells": [
    {
      "cell_type": "markdown",
      "metadata": {
        "id": "view-in-github",
        "colab_type": "text"
      },
      "source": [
        "<a href=\"https://colab.research.google.com/github/JoeVal5/CIS_5367_HJMNS/blob/Census-Data/Initial_Data_Exploration.ipynb\" target=\"_parent\"><img src=\"https://colab.research.google.com/assets/colab-badge.svg\" alt=\"Open In Colab\"/></a>"
      ]
    },
    {
      "cell_type": "code",
      "execution_count": 1,
      "metadata": {
        "id": "Epr_KzpUEIlD"
      },
      "outputs": [],
      "source": [
        "# Spark init#save the files in the g drive folder - first two commands\n",
        "!wget -q https://dlcdn.apache.org/spark/spark-3.1.2/spark-3.1.2-bin-hadoop2.7.tgz \n",
        "!tar xf spark-3.1.2-bin-hadoop2.7.tgz\n",
        "import os\n",
        "os.environ[\"JAVA_HOME\"] = \"/usr/lib/jvm/default-java\"\n",
        "os.environ[\"SPARK_HOME\"] = \"/content/spark-3.1.2-bin-hadoop2.7\"\n",
        "!pip install -q findspark\n",
        "import findspark\n",
        "findspark.init()"
      ]
    },
    {
      "cell_type": "code",
      "source": [
        "from pyspark.sql import SparkSession\n",
        "spark = SparkSession.builder\\\n",
        "        .master(\"local\")\\\n",
        "        .appName(\"Colab\")\\\n",
        "        .config('spark.ui.port', '4050')\\\n",
        "        .getOrCreate()"
      ],
      "metadata": {
        "id": "wgp_kKwML2_I"
      },
      "execution_count": 2,
      "outputs": []
    },
    {
      "cell_type": "code",
      "source": [
        "from google.colab import drive\n",
        "drive.mount('/content/drive')"
      ],
      "metadata": {
        "colab": {
          "base_uri": "https://localhost:8080/"
        },
        "id": "zdrIB-i1MMCN",
        "outputId": "2af5d4e8-1eba-4555-feaa-518695ed4fe5"
      },
      "execution_count": 5,
      "outputs": [
        {
          "output_type": "stream",
          "name": "stdout",
          "text": [
            "Mounted at /content/drive\n"
          ]
        }
      ]
    },
    {
      "cell_type": "code",
      "source": [
        "!head -5 /content/drive/MyDrive/data/zip_code_market_tracker.tsv000"
      ],
      "metadata": {
        "id": "NLjBKGjKMHnL"
      },
      "execution_count": 6,
      "outputs": []
    },
    {
      "cell_type": "code",
      "source": [
        "df = spark.read.csv('/content/drive/MyDrive/data/zip_code_market_tracker.tsv000', sep='\\t',header=True)"
      ],
      "metadata": {
        "id": "7R1m_UonETec"
      },
      "execution_count": 8,
      "outputs": []
    },
    {
      "cell_type": "code",
      "source": [
        "df.show(5)"
      ],
      "metadata": {
        "id": "0YfbyrIrMc9h"
      },
      "execution_count": null,
      "outputs": []
    },
    {
      "cell_type": "code",
      "source": [
        "df_2 = df.drop(\"region_type\",\"region_type_id\",\"is_seasonally_adjusted\",\"city\",\"table_id\",\"period_duration\",\"months_of_supply\",\"price_drops\",\"median_sale_price_mom\", \"median_sale_price_yoy\",\"median_list_price_mom\",\"median_list_price_yoy\",\"median_ppsf_mom\",\"median_ppsf_yoy\",\"median_list_ppsf_mom\",\"median_list_ppsf_yoy\",\"homes_sold_mom\",\"homes_sold_yoy\", \"pending_sales_mom\",\"pending_sales_yoy\",\"new_listings_mom\",\"new_listings_yoy\",\"inventory_mom\",\"inventory_yoy\",\"months_of_supply_mom\",\"months_of_supply_yoy\",\"median_dom_mom\",\"median_dom_yoy\",\"avg_sale_to_list_mom\",\"avg_sale_to_list_yoy\",\"sold_above_list_mom\",\"sold_above_list_yoy\",\"price_drops_mom\",\"price_drops_yoy\",\"off_market_in_two_weeks_mom\",\"off_market_in_two_weeks_yoy\")"
      ],
      "metadata": {
        "id": "Fw7QxWt_MiB6"
      },
      "execution_count": null,
      "outputs": []
    },
    {
      "cell_type": "code",
      "source": [
        "df_2.show(5)"
      ],
      "metadata": {
        "colab": {
          "base_uri": "https://localhost:8080/"
        },
        "id": "dDo7N9mQMptF",
        "outputId": "2090e4e6-0c0b-44cd-c829-20c59c7b8213"
      },
      "execution_count": null,
      "outputs": [
        {
          "output_type": "stream",
          "name": "stdout",
          "text": [
            "+------------+----------+---------------+--------+----------+--------------------+----------------+-----------------+-----------------+------------------+------------------+----------+-------------+------------+---------+----------+-------------------+-------------------+-----------------------+-------------------+------------------------------+-------------------+\n",
            "|period_begin|period_end|         region|   state|state_code|       property_type|property_type_id|median_sale_price|median_list_price|       median_ppsf|  median_list_ppsf|homes_sold|pending_sales|new_listings|inventory|median_dom|   avg_sale_to_list|    sold_above_list|off_market_in_two_weeks|parent_metro_region|parent_metro_region_metro_code|       last_updated|\n",
            "+------------+----------+---------------+--------+----------+--------------------+----------------+-----------------+-----------------+------------------+------------------+----------+-------------+------------+---------+----------+-------------------+-------------------+-----------------------+-------------------+------------------------------+-------------------+\n",
            "|  2017-07-01|2017-09-30|Zip Code: 60201|Illinois|        IL|           Townhouse|              13|           434000|           339000| 251.0239445494644|255.19848771266541|        12|            2|           9|        7|        11|0.97986271677433778|0.16666666666666666|                      0|        Chicago, IL|                         16984|2022-01-09 14:29:56|\n",
            "|  2019-06-01|2019-08-31|Zip Code: 22310|Virginia|        VA|     All Residential|              -1|           489950|           489000|286.03777589872607|284.87878787878788|       140|           49|         150|       63|      18.5|  1.001960632514789|0.48571428571428571|    0.40816326530612246|     Washington, DC|                         47894|2022-01-09 14:29:56|\n",
            "|  2016-05-01|2016-07-31|Zip Code: 48208|Michigan|        MI|Multi-Family (2-4...|               4|           279000|           373500|111.59999999999999|103.29092920353982|         1|            1|           1|        2|        16| 1.0337161911819193|                  1|                      1|        Detroit, MI|                         19804|2022-01-09 14:29:56|\n",
            "|  2013-03-01|2013-05-31|Zip Code: 20132|Virginia|        VA|     All Residential|              -1|           450000|           475000|143.36587716254769|157.44084896916257|        62|           30|         114|       90|        28|0.97831632606393082|0.30645161290322581|                    0.5|     Washington, DC|                         47894|2022-01-09 14:29:56|\n",
            "|  2014-10-01|2014-12-31|Zip Code: 35758| Alabama|        AL|           Townhouse|              13|           125000|           124900|83.265306122448976|89.450620788856085|         7|            1|           6|        7|       207| 0.9668249660622974|0.14285714285714285|                      0|     Huntsville, AL|                         26620|2022-01-09 14:29:56|\n",
            "+------------+----------+---------------+--------+----------+--------------------+----------------+-----------------+-----------------+------------------+------------------+----------+-------------+------------+---------+----------+-------------------+-------------------+-----------------------+-------------------+------------------------------+-------------------+\n",
            "only showing top 5 rows\n",
            "\n"
          ]
        }
      ]
    },
    {
      "cell_type": "code",
      "source": [
        "import pyspark.sql.functions as func"
      ],
      "metadata": {
        "id": "nPudIOgsMwS3"
      },
      "execution_count": null,
      "outputs": []
    },
    {
      "cell_type": "code",
      "source": [
        "#Distinct count of states in Redfin Dataset\n",
        "df_states = df_2.select(\"state_code\").distinct().count()\n",
        "df_states"
      ],
      "metadata": {
        "colab": {
          "base_uri": "https://localhost:8080/"
        },
        "id": "_0-GltOQM2Xm",
        "outputId": "719c1729-9b0f-4ddb-fbf9-454d08915bb4"
      },
      "execution_count": null,
      "outputs": [
        {
          "output_type": "execute_result",
          "data": {
            "text/plain": [
              "47"
            ]
          },
          "metadata": {},
          "execution_count": 11
        }
      ]
    },
    {
      "cell_type": "code",
      "source": [
        "#Calculating difference of list and sale price and the percentage of that difference\n",
        "df_3 = df_2.withColumn('DiffOfList&SalePrice', df_2.median_sale_price - df_2.median_list_price)"
      ],
      "metadata": {
        "id": "_E_nFyqiNv3W"
      },
      "execution_count": null,
      "outputs": []
    },
    {
      "cell_type": "code",
      "source": [
        "df_3.show(5)"
      ],
      "metadata": {
        "colab": {
          "base_uri": "https://localhost:8080/"
        },
        "id": "30ktYk0hPByI",
        "outputId": "bef61947-971d-4d39-e563-6022dacdde51"
      },
      "execution_count": null,
      "outputs": [
        {
          "output_type": "stream",
          "name": "stdout",
          "text": [
            "+------------+----------+---------------+--------+----------+--------------------+----------------+-----------------+-----------------+------------------+------------------+----------+-------------+------------+---------+----------+-------------------+-------------------+-----------------------+-------------------+------------------------------+-------------------+--------------------+\n",
            "|period_begin|period_end|         region|   state|state_code|       property_type|property_type_id|median_sale_price|median_list_price|       median_ppsf|  median_list_ppsf|homes_sold|pending_sales|new_listings|inventory|median_dom|   avg_sale_to_list|    sold_above_list|off_market_in_two_weeks|parent_metro_region|parent_metro_region_metro_code|       last_updated|DiffOfList&SalePrice|\n",
            "+------------+----------+---------------+--------+----------+--------------------+----------------+-----------------+-----------------+------------------+------------------+----------+-------------+------------+---------+----------+-------------------+-------------------+-----------------------+-------------------+------------------------------+-------------------+--------------------+\n",
            "|  2017-07-01|2017-09-30|Zip Code: 60201|Illinois|        IL|           Townhouse|              13|           434000|           339000| 251.0239445494644|255.19848771266541|        12|            2|           9|        7|        11|0.97986271677433778|0.16666666666666666|                      0|        Chicago, IL|                         16984|2022-01-09 14:29:56|             95000.0|\n",
            "|  2019-06-01|2019-08-31|Zip Code: 22310|Virginia|        VA|     All Residential|              -1|           489950|           489000|286.03777589872607|284.87878787878788|       140|           49|         150|       63|      18.5|  1.001960632514789|0.48571428571428571|    0.40816326530612246|     Washington, DC|                         47894|2022-01-09 14:29:56|               950.0|\n",
            "|  2016-05-01|2016-07-31|Zip Code: 48208|Michigan|        MI|Multi-Family (2-4...|               4|           279000|           373500|111.59999999999999|103.29092920353982|         1|            1|           1|        2|        16| 1.0337161911819193|                  1|                      1|        Detroit, MI|                         19804|2022-01-09 14:29:56|            -94500.0|\n",
            "|  2013-03-01|2013-05-31|Zip Code: 20132|Virginia|        VA|     All Residential|              -1|           450000|           475000|143.36587716254769|157.44084896916257|        62|           30|         114|       90|        28|0.97831632606393082|0.30645161290322581|                    0.5|     Washington, DC|                         47894|2022-01-09 14:29:56|            -25000.0|\n",
            "|  2014-10-01|2014-12-31|Zip Code: 35758| Alabama|        AL|           Townhouse|              13|           125000|           124900|83.265306122448976|89.450620788856085|         7|            1|           6|        7|       207| 0.9668249660622974|0.14285714285714285|                      0|     Huntsville, AL|                         26620|2022-01-09 14:29:56|               100.0|\n",
            "+------------+----------+---------------+--------+----------+--------------------+----------------+-----------------+-----------------+------------------+------------------+----------+-------------+------------+---------+----------+-------------------+-------------------+-----------------------+-------------------+------------------------------+-------------------+--------------------+\n",
            "only showing top 5 rows\n",
            "\n"
          ]
        }
      ]
    },
    {
      "cell_type": "code",
      "source": [
        "from pyspark.sql.functions import *\n",
        "import datetime\n",
        "from pyspark.sql.functions import year, month, dayofmonth\n",
        "from pyspark.sql.functions import sum, col, desc"
      ],
      "metadata": {
        "id": "VOHBByBLPpQQ"
      },
      "execution_count": null,
      "outputs": []
    },
    {
      "cell_type": "code",
      "source": [
        "#Grouping by period begin and calculating average median sale price\n",
        "df_4 = df_3.groupBy(year('period_begin')).agg({'median_sale_price':'avg'}).sort(desc(year(df_3.period_begin)))\n",
        "df_4.show()"
      ],
      "metadata": {
        "colab": {
          "base_uri": "https://localhost:8080/"
        },
        "id": "wFLKnYeePgle",
        "outputId": "9534d702-5c93-4ab7-e8bc-7310887cfd3a"
      },
      "execution_count": null,
      "outputs": [
        {
          "output_type": "stream",
          "name": "stdout",
          "text": [
            "+------------------+----------------------+\n",
            "|year(period_begin)|avg(median_sale_price)|\n",
            "+------------------+----------------------+\n",
            "|              2021|    401835.58340094466|\n",
            "|              2020|    362583.99056237936|\n",
            "|              2019|     327523.0125517681|\n",
            "|              2018|     316830.0760047208|\n",
            "|              2017|     299386.2661495026|\n",
            "|              2016|     281396.6058442422|\n",
            "|              2015|     262589.8273512335|\n",
            "|              2014|    236888.15264449312|\n",
            "|              2013|    222190.99115307556|\n",
            "|              2012|     203568.0687816029|\n",
            "+------------------+----------------------+\n",
            "\n"
          ]
        }
      ]
    },
    {
      "cell_type": "code",
      "source": [
        "#Grouping by state and calculating average median sale price\n",
        "df_5 = df_3.groupBy('state_code').agg({'median_sale_price':'avg'}).sort(desc('state_code'))\n",
        "df_5.show()"
      ],
      "metadata": {
        "colab": {
          "base_uri": "https://localhost:8080/"
        },
        "id": "tbTnzrVUQEr-",
        "outputId": "db0e4781-a8a3-4730-9b10-fba1fca9879f"
      },
      "execution_count": null,
      "outputs": [
        {
          "output_type": "stream",
          "name": "stdout",
          "text": [
            "+----------+----------------------+\n",
            "|state_code|avg(median_sale_price)|\n",
            "+----------+----------------------+\n",
            "|        WV|    176733.04015009382|\n",
            "|        WI|     185107.8762431838|\n",
            "|        WA|     354272.3985604759|\n",
            "|        VT|    238820.19213696892|\n",
            "|        VA|     346225.8756535498|\n",
            "|        UT|    295702.58772075834|\n",
            "|        TX|    228807.55905834926|\n",
            "|        TN|     202194.1801501387|\n",
            "|        SC|      220761.695163139|\n",
            "|        RI|    279043.00771734567|\n",
            "|        PA|     194589.5040639796|\n",
            "|        OR|    297355.45440297923|\n",
            "|        OK|    146274.00966060188|\n",
            "|        OH|     161808.5762915278|\n",
            "|        NY|     417966.7571129145|\n",
            "|        NV|     267678.2945781298|\n",
            "|        NM|     326475.7256774404|\n",
            "|        NJ|    335297.06581715145|\n",
            "|        NH|     252588.6696552374|\n",
            "|        NE|    186050.03780650455|\n",
            "+----------+----------------------+\n",
            "only showing top 20 rows\n",
            "\n"
          ]
        }
      ]
    },
    {
      "cell_type": "code",
      "source": [
        "from pyspark import SparkContext\n",
        "from pyspark.sql import SQLContext\n",
        "from pyspark.sql import functions as F\n",
        "from pyspark.sql.window import Window\n",
        "from pyspark.sql.functions import *\n",
        "import datetime\n",
        "from pyspark.sql.functions import year, month, dayofmonth\n",
        "from pyspark.sql.functions import sum, col, desc\n",
        "from pyspark.sql.functions import lit"
      ],
      "metadata": {
        "id": "n0KWjJpPQE2P"
      },
      "execution_count": null,
      "outputs": []
    },
    {
      "cell_type": "code",
      "source": [
        "#Calculating difference between median sale price\n",
        "\n",
        "my_window = Window.partitionBy().orderBy(\"period_begin\")\n",
        "\n",
        "df_3 = df_3.withColumn(\"prev_value\", F.lag(\"median_sale_price\").over(my_window))\n",
        "df_3 = df_3.withColumn(\"diff\", F.when(F.isnull(df_3.median_sale_price - df_3.prev_value), 0)\n",
        "                              .otherwise(df_3.median_sale_price - df_3.prev_value))\n",
        "\n",
        "df_3.show()"
      ],
      "metadata": {
        "colab": {
          "base_uri": "https://localhost:8080/"
        },
        "id": "X__tOW7kQZUR",
        "outputId": "cb2f047b-f211-48c3-f678-45d206271749"
      },
      "execution_count": null,
      "outputs": [
        {
          "output_type": "stream",
          "name": "stdout",
          "text": [
            "+------------+----------+---------------+-------------+----------+--------------------+----------------+-----------------+-----------------+------------------+------------------+----------+-------------+------------+---------+----------+-------------------+-------------------+-----------------------+--------------------+------------------------------+-------------------+--------------------+----------+---------+\n",
            "|period_begin|period_end|         region|        state|state_code|       property_type|property_type_id|median_sale_price|median_list_price|       median_ppsf|  median_list_ppsf|homes_sold|pending_sales|new_listings|inventory|median_dom|   avg_sale_to_list|    sold_above_list|off_market_in_two_weeks| parent_metro_region|parent_metro_region_metro_code|       last_updated|DiffOfList&SalePrice|prev_value|     diff|\n",
            "+------------+----------+---------------+-------------+----------+--------------------+----------------+-----------------+-----------------+------------------+------------------+----------+-------------+------------+---------+----------+-------------------+-------------------+-----------------------+--------------------+------------------------------+-------------------+--------------------+----------+---------+\n",
            "|  2012-01-01|2012-03-31|Zip Code: 44053|         Ohio|        OH|     All Residential|              -1|            86500|           115000|59.794372294372295|66.872427983539097|        32|            4|          69|      178|       209|0.90530018417568903|             0.0625|                      0|       Cleveland, OH|                         17460|2022-01-09 14:29:56|            -28500.0|      null|      0.0|\n",
            "|  2012-01-01|2012-03-31|Zip Code: 44146|         Ohio|        OH|         Condo/Co-op|               3|            53000|            27800|35.475234270414994|30.217391304347824|         3|         null|           5|       12|       257| 0.8976997597885531|0.33333333333333331|                   null|       Cleveland, OH|                         17460|2022-01-09 14:29:56|             25200.0|     86500| -33500.0|\n",
            "|  2012-01-01|2012-03-31|Zip Code: 32523|      Florida|        FL|     All Residential|              -1|           335000|             null|             107.2|              null|         1|         null|        null|     null|       131|0.89333333333333331|                  0|                   null|       Pensacola, FL|                         37860|2022-01-09 14:29:56|                null|     53000| 282000.0|\n",
            "|  2012-01-01|2012-03-31|Zip Code: 11558|     New York|        NY|Multi-Family (2-4...|               4|           235000|           429000|11.627906976744185|214.45208903960696|         1|            2|           4|        4|      1263| 1.0444444444444445|                  1|                      0|   Nassau County, NY|                         35004|2022-01-09 14:29:56|           -194000.0|    335000|-100000.0|\n",
            "|  2012-01-01|2012-03-31|Zip Code: 80214|     Colorado|        CO|     All Residential|              -1|           132050|           189900| 86.79245283018868|109.01162790697674|        59|           18|          89|       73|        70|0.94992009297714997|0.16949152542372881|                    0.5|          Denver, CO|                         19740|2022-01-09 14:29:56|            -57850.0|    235000|-102950.0|\n",
            "|  2012-01-01|2012-03-31|Zip Code: 03064|New Hampshire|        NH|     All Residential|              -1|         199416.5|           182350|124.39901760825394|111.28467153284672|        22|            4|          40|       58|        99|0.96656105186853625|0.18181818181818182|                      0|      Manchester, NH|                         31700|2022-01-09 14:29:56|             17066.5|    132050|  67366.5|\n",
            "|  2012-01-01|2012-03-31|Zip Code: 05201|      Vermont|        VT|         Condo/Co-op|               3|           133500|            89000|133.93299189073838|108.66910866910867|         2|         null|           1|        4|     339.5|0.95351883289626482|                  0|                   null|      Bennington, VT|                         13540|2022-01-09 14:29:56|             44500.0|  199416.5| -65916.5|\n",
            "|  2012-01-01|2012-03-31|Zip Code: 22556|     Virginia|        VA|Single Family Res...|               6|           275000|           298000|110.04401760704282|122.61647221302333|        57|           25|         108|       87|      69.5|0.97921652988495422|0.15789473684210525|    0.47999999999999998|      Washington, DC|                         47894|2022-01-09 14:29:56|            -23000.0|    133500| 141500.0|\n",
            "|  2012-01-01|2012-03-31|Zip Code: 32459|      Florida|        FL|Single Family Res...|               6|           309500|           834900|152.08695652173913|373.05630026809649|       134|         null|           1|        2|      null|0.93683897005963368|0.17164179104477612|                   null|       Crestview, FL|                         18880|2022-01-09 14:29:56|           -525400.0|    275000|  34500.0|\n",
            "|  2012-01-01|2012-03-31|Zip Code: 44137|         Ohio|        OH|         Condo/Co-op|               3|            17600|            14000|19.642857142857146|            15.625|         2|            1|           1|        2|        99|0.71757093622028723|                  0|                      0|       Cleveland, OH|                         17460|2022-01-09 14:29:56|              3600.0|    309500|-291900.0|\n",
            "|  2012-01-01|2012-03-31|Zip Code: 45430|         Ohio|        OH|Single Family Res...|               6|           135500|           161400|75.617283950617278|86.697002923976612|         9|            4|          23|       34|       167|0.97834135952346957| 0.1111111111111111|                   0.25|          Dayton, OH|                         19430|2022-01-09 14:29:56|            -25900.0|     17600| 117900.0|\n",
            "|  2012-01-01|2012-03-31|Zip Code: 06092|  Connecticut|        CT|Single Family Res...|               6|           382500|           387450|145.78473842052648| 150.8729827028796|         7|            3|          22|       31|       160|0.94112420536993258|                  0|                      0|        Hartford, CT|                         25540|2022-01-09 14:29:56|             -4950.0|    135500| 247000.0|\n",
            "|  2012-01-01|2012-03-31|Zip Code: 03222|New Hampshire|        NH|Single Family Res...|               6|           138011|           154900| 121.7948717948718|95.279164775306398|         7|            1|          19|       25|       109|0.93528494563841313|0.14285714285714285|                      0|         Lebanon, NH|                         30100|2022-01-09 14:29:56|            -16889.0|    382500|-244489.0|\n",
            "|  2012-01-01|2012-03-31|Zip Code: 19057| Pennsylvania|        PA|         Condo/Co-op|               3|           134500|           123000|92.755388940955953|100.88383838383839|         4|            3|           4|        3|     108.5|0.92963457593039545|                  0|    0.33333333333333331|Montgomery County...|                         33874|2022-01-09 14:29:56|             11500.0|    138011|  -3511.0|\n",
            "|  2012-01-01|2012-03-31|Zip Code: 20711|     Maryland|        MD|Single Family Res...|               6|           421400|           382500| 134.6956651161982|169.16250693288964|        10|            2|          23|       31|       279|0.91797039595353591|                  0|                    0.5|       Baltimore, MD|                         12580|2022-01-09 14:29:56|             38900.0|    134500| 286900.0|\n",
            "|  2012-01-01|2012-03-31|Zip Code: 47115|      Indiana|        IN|Single Family Res...|               6|          21058.5|           115000|19.901327392555462|52.415679124886054|         2|            2|           5|        4|      52.5|0.76923076923076927|                  0|                      0|      Louisville, KY|                         31140|2022-01-09 14:29:56|            -93941.5|    421400|-400341.5|\n",
            "|  2012-01-01|2012-03-31|Zip Code: 98168|   Washington|        WA|Multi-Family (2-4...|               4|           157000|           183875| 71.36363636363636|90.530547662102805|         1|         null|           2|        4|        58|0.92380111797587527|                  0|                   null|         Seattle, WA|                         42644|2022-01-09 14:29:56|            -26875.0|   21058.5| 135941.5|\n",
            "|  2012-01-01|2012-03-31|Zip Code: 35049|      Alabama|        AL|Single Family Res...|               6|           105700|           132000|67.543195952826238|94.582866295717324|         4|         null|           3|        9|     126.5| 1.0069902263611636|                0.5|                   null|      Birmingham, AL|                         13820|2022-01-09 14:29:56|            -26300.0|    157000| -51300.0|\n",
            "|  2012-01-01|2012-03-31|Zip Code: 43240|         Ohio|        OH|         Condo/Co-op|               3|           135000|           150000|92.653508771929822|96.058347233805961|         9|            2|          14|       11|       275|0.96415756192332025|0.22222222222222221|                      0|        Columbus, OH|                         18140|2022-01-09 14:29:56|            -15000.0|    105700|  29300.0|\n",
            "|  2012-01-01|2012-03-31|Zip Code: 91941|   California|        CA|Multi-Family (2-4...|               4|           290500|           312450|              null|176.41176470588235|         2|            2|           4|        1|     213.5|0.84723346336426719|                  0|                    0.5|       San Diego, CA|                         41740|2022-01-09 14:29:56|            -21950.0|    135000| 155500.0|\n",
            "+------------+----------+---------------+-------------+----------+--------------------+----------------+-----------------+-----------------+------------------+------------------+----------+-------------+------------+---------+----------+-------------------+-------------------+-----------------------+--------------------+------------------------------+-------------------+--------------------+----------+---------+\n",
            "only showing top 20 rows\n",
            "\n"
          ]
        }
      ]
    },
    {
      "cell_type": "code",
      "source": [
        "#Grouping by state and calculating average difference of median sale price\n",
        "df_6 = df_3.groupBy('state_code').agg({'diff':'avg'}).sort(desc('state_code'))\n",
        "df_6.show()"
      ],
      "metadata": {
        "colab": {
          "base_uri": "https://localhost:8080/"
        },
        "id": "lBD6-6F5Tysu",
        "outputId": "b07480a4-870a-4a1d-d7e6-bdc65b0d108e"
      },
      "execution_count": null,
      "outputs": [
        {
          "output_type": "stream",
          "name": "stdout",
          "text": [
            "+----------+-------------------+\n",
            "|state_code|          avg(diff)|\n",
            "+----------+-------------------+\n",
            "|        WV|-110777.98944652909|\n",
            "|        WI|-122361.54200876813|\n",
            "|        WA|  59249.19562622059|\n",
            "|        VT| -50301.31878932735|\n",
            "|        VA|  52927.93969713126|\n",
            "|        UT| -9741.546015946202|\n",
            "|        TX| -62754.06183071034|\n",
            "|        TN|-106925.99217211554|\n",
            "|        SC| -91074.74045999847|\n",
            "|        RI| -9920.015277194456|\n",
            "|        PA| -95371.50993527369|\n",
            "|        OR|  6345.578071571748|\n",
            "|        OK|-146627.44282516264|\n",
            "|        OH|-128739.81936908046|\n",
            "|        NY| 119195.89756566526|\n",
            "|        NV| -22759.28677023048|\n",
            "|        NM| 28224.968005223636|\n",
            "|        NJ| 33476.293601061276|\n",
            "|        NH| -37777.25948736588|\n",
            "|        NE|-104403.57103467734|\n",
            "+----------+-------------------+\n",
            "only showing top 20 rows\n",
            "\n"
          ]
        }
      ]
    },
    {
      "cell_type": "code",
      "source": [
        "# convert dataframe to dictionary \n",
        "import matplotlib.pyplot as plt\n",
        "dict = df_4.rdd.collectAsMap()\n",
        "plt.bar(list(dict.keys()), dict.values(), color='g')\n",
        "plt.xlabel(\"year\",fontsize=10)\n",
        "plt.ylabel(\"Median Sale Price\",fontsize=10)\n",
        "plt.title(\"Date Vs. Median Sale Price of Redfin Data\",fontsize=20)"
      ],
      "metadata": {
        "colab": {
          "base_uri": "https://localhost:8080/",
          "height": 318
        },
        "id": "PLMaAmXlUOzz",
        "outputId": "fe58ec25-d437-46ad-9eb2-903b5d3033a6"
      },
      "execution_count": null,
      "outputs": [
        {
          "output_type": "execute_result",
          "data": {
            "text/plain": [
              "Text(0.5, 1.0, 'Date Vs. Median Sale Price of Redfin Data')"
            ]
          },
          "metadata": {},
          "execution_count": 20
        },
        {
          "output_type": "display_data",
          "data": {
            "text/plain": [
              "<Figure size 432x288 with 1 Axes>"
            ],
            "image/png": "[encoded data removed]"
          },
          "metadata": {
            "needs_background": "light"
          }
        }
      ]
    },
    {
      "cell_type": "code",
      "source": [
        "# convert dataframe to dictionary \n",
        "import matplotlib.pyplot as plt\n",
        "dict = df_5.rdd.collectAsMap()\n",
        "plt.bar(list(dict.keys()), dict.values(), color='b')\n",
        "plt.xlabel(\"State\",fontsize=10)\n",
        "plt.xticks(rotation=90)\n",
        "plt.ylabel(\"Median Sale Price\",fontsize=10)\n",
        "plt.title(\"State Vs. Median Sale Price of Redfin Data\",fontsize=20)\n",
        "plt.gcf().set_size_inches(10,5)"
      ],
      "metadata": {
        "colab": {
          "base_uri": "https://localhost:8080/",
          "height": 361
        },
        "id": "OANZX0J3WLbq",
        "outputId": "55be07c2-7080-4240-8f22-ed11631b41d1"
      },
      "execution_count": null,
      "outputs": [
        {
          "output_type": "display_data",
          "data": {
            "text/plain": [
              "<Figure size 720x360 with 1 Axes>"
            ],
            "image/png": "[encoded data removed]"
          },
          "metadata": {
            "needs_background": "light"
          }
        }
      ]
    },
    {
      "cell_type": "code",
      "source": [
        "import matplotlib.pyplot as plt\n",
        "dict = df_6.rdd.collectAsMap()\n",
        "plt.bar(list(dict.keys()), dict.values(), color='lightblue')\n",
        "plt.xlabel(\"State\",fontsize=10)\n",
        "plt.xticks(rotation=90)\n",
        "plt.ylabel(\"Difference of Median Sale Price\",fontsize=10)\n",
        "plt.title(\"State Vs. Difference of Median Sale Price of Redfin Data\",fontsize=20)\n",
        "plt.gcf().set_size_inches(10,5)"
      ],
      "metadata": {
        "colab": {
          "base_uri": "https://localhost:8080/",
          "height": 361
        },
        "id": "W_tKtJbHYkW8",
        "outputId": "878cf7a4-157b-4951-d643-16551cfb871a"
      },
      "execution_count": null,
      "outputs": [
        {
          "output_type": "display_data",
          "data": {
            "text/plain": [
              "<Figure size 720x360 with 1 Axes>"
            ],
            "image/png": "[encoded data removed]"
          },
          "metadata": {
            "needs_background": "light"
          }
        }
      ]
    },
    {
      "cell_type": "code",
      "source": [
        "df_7 = df_3.groupBy('state_code').agg({'homes_sold':'sum'}).sort(desc('state_code'))\n",
        "\n",
        "df_7.show()"
      ],
      "metadata": {
        "colab": {
          "base_uri": "https://localhost:8080/"
        },
        "id": "jbsEogcEpkTl",
        "outputId": "d09dd0ce-1ea2-4f79-b823-5d2a99c0eea3"
      },
      "execution_count": null,
      "outputs": [
        {
          "output_type": "stream",
          "name": "stdout",
          "text": [
            "+----------+---------------+\n",
            "|state_code|sum(homes_sold)|\n",
            "+----------+---------------+\n",
            "|        WV|       231252.0|\n",
            "|        WI|      3154496.0|\n",
            "|        WA|      6200008.0|\n",
            "|        VT|       341600.0|\n",
            "|        VA|      5122254.0|\n",
            "|        UT|      2483498.0|\n",
            "|        TX|    1.6001554E7|\n",
            "|        TN|      4232576.0|\n",
            "|        SC|      3155930.0|\n",
            "|        RI|       831618.0|\n",
            "|        PA|      6835910.0|\n",
            "|        OR|      3433796.0|\n",
            "|        OK|      2358712.0|\n",
            "|        OH|      7672028.0|\n",
            "|        NY|      6753402.0|\n",
            "|        NV|      3229686.0|\n",
            "|        NM|       157080.0|\n",
            "|        NJ|      5826306.0|\n",
            "|        NH|      1188340.0|\n",
            "|        NE|      1069648.0|\n",
            "+----------+---------------+\n",
            "only showing top 20 rows\n",
            "\n"
          ]
        }
      ]
    },
    {
      "cell_type": "code",
      "source": [
        "import matplotlib.pyplot as plt\n",
        "\n",
        "\n",
        "\n",
        "dict = df_7.rdd.collectAsMap()\n",
        "\n",
        "plt.bar(list(dict.keys()), dict.values(), color='g')\n",
        "\n",
        "plt.xlabel(\"State\",fontsize=20)\n",
        "\n",
        "plt.xticks(rotation=90)\n",
        "\n",
        "plt.ylabel(\"Homes Sold\",fontsize=20)\n",
        "\n",
        "plt.title(\"Number of Homes sold in different States\",fontsize=20)\n",
        "\n",
        "plt.gcf().set_size_inches(10,5)"
      ],
      "metadata": {
        "colab": {
          "base_uri": "https://localhost:8080/",
          "height": 370
        },
        "id": "tjTc5PhgprnO",
        "outputId": "1b084807-b883-4f5e-cbd7-87b478a1eb52"
      },
      "execution_count": null,
      "outputs": [
        {
          "output_type": "display_data",
          "data": {
            "text/plain": [
              "<Figure size 720x360 with 1 Axes>"
            ],
            "image/png": "[encoded data removed]"
          },
          "metadata": {
            "needs_background": "light"
          }
        }
      ]
    },
    {
      "cell_type": "code",
      "source": [
        "df_8 = df_3.groupBy(year('period_begin')).agg({'homes_sold':'sum'}).sort(desc(year('period_begin')))\n",
        "df_8.show()"
      ],
      "metadata": {
        "colab": {
          "base_uri": "https://localhost:8080/"
        },
        "id": "DUymFXKIl6Vz",
        "outputId": "4880f915-54d3-4815-84ba-4759433a5324"
      },
      "execution_count": null,
      "outputs": [
        {
          "output_type": "stream",
          "name": "stdout",
          "text": [
            "+------------------+---------------+\n",
            "|year(period_begin)|sum(homes_sold)|\n",
            "+------------------+---------------+\n",
            "|              2021|    2.1533092E7|\n",
            "|              2020|    2.2866564E7|\n",
            "|              2019|    2.1703092E7|\n",
            "|              2018|     2.129468E7|\n",
            "|              2017|     2.146457E7|\n",
            "|              2016|     2.086591E7|\n",
            "|              2015|    1.9596474E7|\n",
            "|              2014|    1.6961434E7|\n",
            "|              2013|    1.6730922E7|\n",
            "|              2012|    1.4728378E7|\n",
            "+------------------+---------------+\n",
            "\n"
          ]
        }
      ]
    },
    {
      "cell_type": "code",
      "source": [
        "import matplotlib.pyplot as plt\n",
        "from matplotlib.ticker import (MultipleLocator, FormatStrFormatter,AutoMinorLocator)\n",
        "\n",
        "dict = df_8.rdd.collectAsMap()\n",
        "plt.bar(list(dict.keys()), dict.values(), color='y')\n",
        "plt.xlabel(\"year\",fontsize=10)\n",
        "plt.xticks(rotation=90)\n",
        "\n",
        "plt.ylabel(\"Total houses sold per year\",fontsize=10)\n",
        "plt.title(\"Total houses sold per year in Redfin data\",fontsize=20)\n",
        "plt.gcf().set_size_inches(10,5)"
      ],
      "metadata": {
        "colab": {
          "base_uri": "https://localhost:8080/",
          "height": 370
        },
        "id": "DBU7lXsrl8mm",
        "outputId": "87d6ae73-94d4-4e50-8ff5-d48528758497"
      },
      "execution_count": null,
      "outputs": [
        {
          "output_type": "display_data",
          "data": {
            "text/plain": [
              "<Figure size 720x360 with 1 Axes>"
            ],
            "image/png": "[encoded data removed]"
          },
          "metadata": {
            "needs_background": "light"
          }
        }
      ]
    },
    {
      "cell_type": "code",
      "source": [
        "# https://api.census.gov/data/2020/acs/acs5/variables.html lists all the possible variable keys for the API Request\n",
        "## Below provides a DF with the ZIP Code and the Median household income.\n",
        "## Need to initialize spark session first\n",
        "##CODE\n",
        "import requests\n",
        "from pyspark.sql.types import *\n",
        "from pyspark.sql.functions import from_json\n",
        "import pandas as pd\n",
        "from pyspark.sql.functions import col\n",
        "\n",
        "\n",
        "variables = 'B19013_001E'\n",
        "year = 2012\n",
        "key  = '46d133e794f5998e012ea4e0d83d6fb6085136b0'\n",
        "geography = 'zip%20code%20tabulation%20area'\n",
        "start_year = 2012\n",
        "end_year = 2020\n",
        "\n",
        "\n",
        "while year != end_year + 1:\n",
        "  census_API_call = requests.get(f'https://api.census.gov/data/{year}/acs/acs5?get={variables}&for={geography}:*&key={key}')\n",
        "  census_JSON = census_API_call.json()\n",
        "  df = pd.DataFrame(census_JSON[1:], columns = census_JSON[0])\n",
        "  #print(df)\n",
        "  sparkDF = spark.createDataFrame(df)\n",
        "  #sparkDF.show()\n",
        "  if year == start_year:\n",
        "    updated_df = sparkDF.select(col(\"B19013_001E\").alias(\"Median_Inc_2012\"),col(\"zip code tabulation area\").alias(\"Zip_Code\") )\n",
        "  else:\n",
        "    column_title = f\"Median_Inc_{year}\"\n",
        "    updated_df = updated_df.join(sparkDF,sparkDF['zip code tabulation area']== updated_df.Zip_Code,'left').select(updated_df [\"*\"],sparkDF['B19013_001E'].alias(column_title))\n",
        "  \n",
        "  #print(year)\n",
        "  year += 1\n",
        "\n",
        "updated_df.show()"
      ],
      "metadata": {
        "id": "oLeXpVetSxK1",
        "outputId": "286c3fae-4d27-475e-a31e-1f58fb09c7a8",
        "colab": {
          "base_uri": "https://localhost:8080/"
        }
      },
      "execution_count": 10,
      "outputs": [
        {
          "output_type": "stream",
          "name": "stdout",
          "text": [
            "+---------------+--------+---------------+---------------+---------------+---------------+---------------+---------------+---------------+\n",
            "|Median_Inc_2012|Zip_Code|Median_Inc_2013|Median_Inc_2014|Median_Inc_2015|Median_Inc_2016|Median_Inc_2017|Median_Inc_2018|Median_Inc_2019|\n",
            "+---------------+--------+---------------+---------------+---------------+---------------+---------------+---------------+---------------+\n",
            "|         108181|   02053|         106132|         109841|         110241|         109865|         115432|         119450|         132823|\n",
            "|         130824|   02090|         128984|         128813|         135884|         140355|         146042|         155887|         160329|\n",
            "|          65048|   03442|          58750|          66125|          63958|          59205|          59881|          61818|          60000|\n",
            "|          53137|   03904|          63378|          59521|          61934|          67599|          72228|          69702|          77036|\n",
            "|          41042|   04438|          38177|          42969|          38594|          40643|          43438|          44375|          47000|\n",
            "|          60461|   06382|          57704|          58842|          58953|          61044|          66345|          68598|          70610|\n",
            "|          75036|   06518|          74230|          72681|          76759|          71549|          72943|          76938|          81358|\n",
            "|     -666666666|   07820|     -666666666|     -666666666|     -666666666|     -666666666|     -666666666|     -666666666|     -666666666|\n",
            "|          86067|   08648|          86451|          87001|          85090|          93696|          95537|         102633|         100930|\n",
            "|          86804|   11563|          90896|          90195|          85194|          81068|          91042|          97169|          99947|\n",
            "|          67041|   11722|          67023|          65939|          66570|          67222|          68588|          69360|          75021|\n",
            "|          65294|   12529|          78365|          67267|          62143|          67875|          59375|          69018|          83892|\n",
            "|          57232|   12847|          58906|          57000|          62917|          66875|          55694|          59375|          70000|\n",
            "|          50320|   13865|          51236|          57956|          60399|          61364|          67077|          62629|          60326|\n",
            "|          20888|   14204|          23259|          25199|          26269|          25222|          25267|          23886|          22500|\n",
            "|          50179|   14838|          55045|          58542|          55057|          58826|          57578|          60368|          56250|\n",
            "|          40625|   15555|          32500|          17813|          27188|          27083|          36667|     -666666666|          64583|\n",
            "|          60227|   15634|          66488|          68094|          58125|          61157|     -666666666|          16250|          16283|\n",
            "|          23516|   16250|          12059|          15313|          20417|          20000|          21429|          21250|          22356|\n",
            "|          43755|   16504|          43042|          42794|          40915|          40773|          41917|          41281|          43050|\n",
            "+---------------+--------+---------------+---------------+---------------+---------------+---------------+---------------+---------------+\n",
            "only showing top 20 rows\n",
            "\n"
          ]
        }
      ]
    }
  ]
}
